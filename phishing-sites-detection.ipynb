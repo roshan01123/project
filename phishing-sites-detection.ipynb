{
 "cells": [
  {
   "cell_type": "markdown",
   "metadata": {},
   "source": [
    "### What is Phishing ?\n",
    "It is a form of fraud in which the attacker tries to learn sensitive information such as login credentials or account information by pretending as a reputable entity or person via email or other communication channel means\n",
    "\n",
    "Phishing is popular among attackers, since it is easier to trick someone into clicking a malicious link which seems legitimate\n",
    "\n",
    "The URL of phishing websites may be very similar to real websites to the human eye, but they are different in IP."
   ]
  },
  {
   "cell_type": "markdown",
   "metadata": {},
   "source": [
    "Domain name portion is constrained since it has to be registered with a domain name Registrar <br>\n",
    "Subdomain name and Path are fully controllable by the phisher"
   ]
  },
  {
   "cell_type": "markdown",
   "metadata": {},
   "source": [
    "# Import the Dataset and Libraries"
   ]
  },
  {
   "cell_type": "code",
   "execution_count": 1,
   "id": "21130b3b",
   "metadata": {
    "execution": {
     "iopub.execute_input": "2022-01-06T19:42:35.891781Z",
     "iopub.status.busy": "2022-01-06T19:42:35.891209Z",
     "iopub.status.idle": "2022-01-06T19:42:37.563663Z",
     "shell.execute_reply": "2022-01-06T19:42:37.563121Z",
     "shell.execute_reply.started": "2022-01-06T19:41:42.423354Z"
    },
    "papermill": {
     "duration": 1.704694,
     "end_time": "2022-01-06T19:42:37.563817",
     "exception": false,
     "start_time": "2022-01-06T19:42:35.859123",
     "status": "completed"
    },
    "tags": []
   },
   "outputs": [],
   "source": [
    "import pandas as pd\n",
    "import numpy as np\n",
    "import matplotlib.pyplot as plt\n",
    "%matplotlib inline\n",
    "import seaborn as sns  \n",
    "import time \n",
    "\n",
    "from sklearn.metrics import classification_report\n",
    "from sklearn.metrics import confusion_matrix\n",
    "from nltk.tokenize import RegexpTokenizer  \n",
    "from nltk.stem.snowball import SnowballStemmer\n",
    "from sklearn.feature_extraction.text import CountVectorizer  \n",
    "from sklearn.pipeline import make_pipeline\n",
    "\n",
    "import joblib"
   ]
  },
  {
   "cell_type": "code",
   "execution_count": 2,
   "id": "169706cf",
   "metadata": {
    "execution": {
     "iopub.execute_input": "2022-01-06T19:42:37.628119Z",
     "iopub.status.busy": "2022-01-06T19:42:37.627539Z",
     "iopub.status.idle": "2022-01-06T19:42:37.810466Z",
     "shell.execute_reply": "2022-01-06T19:42:37.811018Z",
     "shell.execute_reply.started": "2022-01-06T19:41:42.434690Z"
    },
    "papermill": {
     "duration": 0.217299,
     "end_time": "2022-01-06T19:42:37.811207",
     "exception": false,
     "start_time": "2022-01-06T19:42:37.593908",
     "status": "completed"
    },
    "tags": []
   },
   "outputs": [],
   "source": [
    "# Loading the dataset\n",
    "df= pd.read_csv(\"dataset_phishing.csv\")"
   ]
  },
  {
   "cell_type": "markdown",
   "metadata": {},
   "source": [
    "## Inspect the dataset"
   ]
  },
  {
   "cell_type": "code",
   "execution_count": 3,
   "id": "338a3de1",
   "metadata": {
    "execution": {
     "iopub.execute_input": "2022-01-06T19:42:37.892174Z",
     "iopub.status.busy": "2022-01-06T19:42:37.891549Z",
     "iopub.status.idle": "2022-01-06T19:42:37.915545Z",
     "shell.execute_reply": "2022-01-06T19:42:37.916034Z",
     "shell.execute_reply.started": "2022-01-06T19:41:43.330020Z"
    },
    "papermill": {
     "duration": 0.064622,
     "end_time": "2022-01-06T19:42:37.916199",
     "exception": false,
     "start_time": "2022-01-06T19:42:37.851577",
     "status": "completed"
    },
    "tags": []
   },
   "outputs": [
    {
     "data": {
      "text/html": [
       "<div>\n",
       "<style scoped>\n",
       "    .dataframe tbody tr th:only-of-type {\n",
       "        vertical-align: middle;\n",
       "    }\n",
       "\n",
       "    .dataframe tbody tr th {\n",
       "        vertical-align: top;\n",
       "    }\n",
       "\n",
       "    .dataframe thead th {\n",
       "        text-align: right;\n",
       "    }\n",
       "</style>\n",
       "<table border=\"1\" class=\"dataframe\">\n",
       "  <thead>\n",
       "    <tr style=\"text-align: right;\">\n",
       "      <th></th>\n",
       "      <th>url</th>\n",
       "      <th>length_url</th>\n",
       "      <th>length_hostname</th>\n",
       "      <th>ip</th>\n",
       "      <th>nb_dots</th>\n",
       "      <th>nb_hyphens</th>\n",
       "      <th>nb_at</th>\n",
       "      <th>nb_qm</th>\n",
       "      <th>nb_and</th>\n",
       "      <th>nb_or</th>\n",
       "      <th>...</th>\n",
       "      <th>domain_in_title</th>\n",
       "      <th>domain_with_copyright</th>\n",
       "      <th>whois_registered_domain</th>\n",
       "      <th>domain_registration_length</th>\n",
       "      <th>domain_age</th>\n",
       "      <th>web_traffic</th>\n",
       "      <th>dns_record</th>\n",
       "      <th>google_index</th>\n",
       "      <th>page_rank</th>\n",
       "      <th>status</th>\n",
       "    </tr>\n",
       "  </thead>\n",
       "  <tbody>\n",
       "    <tr>\n",
       "      <th>0</th>\n",
       "      <td>http://www.crestonwood.com/router.php</td>\n",
       "      <td>37</td>\n",
       "      <td>19</td>\n",
       "      <td>0</td>\n",
       "      <td>3</td>\n",
       "      <td>0</td>\n",
       "      <td>0</td>\n",
       "      <td>0</td>\n",
       "      <td>0</td>\n",
       "      <td>0</td>\n",
       "      <td>...</td>\n",
       "      <td>0</td>\n",
       "      <td>1</td>\n",
       "      <td>0</td>\n",
       "      <td>45</td>\n",
       "      <td>-1</td>\n",
       "      <td>0</td>\n",
       "      <td>1</td>\n",
       "      <td>1</td>\n",
       "      <td>4</td>\n",
       "      <td>legitimate</td>\n",
       "    </tr>\n",
       "    <tr>\n",
       "      <th>1</th>\n",
       "      <td>http://shadetreetechnology.com/V4/validation/a...</td>\n",
       "      <td>77</td>\n",
       "      <td>23</td>\n",
       "      <td>1</td>\n",
       "      <td>1</td>\n",
       "      <td>0</td>\n",
       "      <td>0</td>\n",
       "      <td>0</td>\n",
       "      <td>0</td>\n",
       "      <td>0</td>\n",
       "      <td>...</td>\n",
       "      <td>1</td>\n",
       "      <td>0</td>\n",
       "      <td>0</td>\n",
       "      <td>77</td>\n",
       "      <td>5767</td>\n",
       "      <td>0</td>\n",
       "      <td>0</td>\n",
       "      <td>1</td>\n",
       "      <td>2</td>\n",
       "      <td>phishing</td>\n",
       "    </tr>\n",
       "    <tr>\n",
       "      <th>2</th>\n",
       "      <td>https://support-appleld.com.secureupdate.duila...</td>\n",
       "      <td>126</td>\n",
       "      <td>50</td>\n",
       "      <td>1</td>\n",
       "      <td>4</td>\n",
       "      <td>1</td>\n",
       "      <td>0</td>\n",
       "      <td>1</td>\n",
       "      <td>2</td>\n",
       "      <td>0</td>\n",
       "      <td>...</td>\n",
       "      <td>1</td>\n",
       "      <td>0</td>\n",
       "      <td>0</td>\n",
       "      <td>14</td>\n",
       "      <td>4004</td>\n",
       "      <td>5828815</td>\n",
       "      <td>0</td>\n",
       "      <td>1</td>\n",
       "      <td>0</td>\n",
       "      <td>phishing</td>\n",
       "    </tr>\n",
       "    <tr>\n",
       "      <th>3</th>\n",
       "      <td>http://rgipt.ac.in</td>\n",
       "      <td>18</td>\n",
       "      <td>11</td>\n",
       "      <td>0</td>\n",
       "      <td>2</td>\n",
       "      <td>0</td>\n",
       "      <td>0</td>\n",
       "      <td>0</td>\n",
       "      <td>0</td>\n",
       "      <td>0</td>\n",
       "      <td>...</td>\n",
       "      <td>1</td>\n",
       "      <td>0</td>\n",
       "      <td>0</td>\n",
       "      <td>62</td>\n",
       "      <td>-1</td>\n",
       "      <td>107721</td>\n",
       "      <td>0</td>\n",
       "      <td>0</td>\n",
       "      <td>3</td>\n",
       "      <td>legitimate</td>\n",
       "    </tr>\n",
       "    <tr>\n",
       "      <th>4</th>\n",
       "      <td>http://www.iracing.com/tracks/gateway-motorspo...</td>\n",
       "      <td>55</td>\n",
       "      <td>15</td>\n",
       "      <td>0</td>\n",
       "      <td>2</td>\n",
       "      <td>2</td>\n",
       "      <td>0</td>\n",
       "      <td>0</td>\n",
       "      <td>0</td>\n",
       "      <td>0</td>\n",
       "      <td>...</td>\n",
       "      <td>0</td>\n",
       "      <td>1</td>\n",
       "      <td>0</td>\n",
       "      <td>224</td>\n",
       "      <td>8175</td>\n",
       "      <td>8725</td>\n",
       "      <td>0</td>\n",
       "      <td>0</td>\n",
       "      <td>6</td>\n",
       "      <td>legitimate</td>\n",
       "    </tr>\n",
       "  </tbody>\n",
       "</table>\n",
       "<p>5 rows × 89 columns</p>\n",
       "</div>"
      ],
      "text/plain": [
       "                                                 url  length_url  \\\n",
       "0              http://www.crestonwood.com/router.php          37   \n",
       "1  http://shadetreetechnology.com/V4/validation/a...          77   \n",
       "2  https://support-appleld.com.secureupdate.duila...         126   \n",
       "3                                 http://rgipt.ac.in          18   \n",
       "4  http://www.iracing.com/tracks/gateway-motorspo...          55   \n",
       "\n",
       "   length_hostname  ip  nb_dots  nb_hyphens  nb_at  nb_qm  nb_and  nb_or  ...  \\\n",
       "0               19   0        3           0      0      0       0      0  ...   \n",
       "1               23   1        1           0      0      0       0      0  ...   \n",
       "2               50   1        4           1      0      1       2      0  ...   \n",
       "3               11   0        2           0      0      0       0      0  ...   \n",
       "4               15   0        2           2      0      0       0      0  ...   \n",
       "\n",
       "   domain_in_title  domain_with_copyright  whois_registered_domain  \\\n",
       "0                0                      1                        0   \n",
       "1                1                      0                        0   \n",
       "2                1                      0                        0   \n",
       "3                1                      0                        0   \n",
       "4                0                      1                        0   \n",
       "\n",
       "   domain_registration_length  domain_age  web_traffic  dns_record  \\\n",
       "0                          45          -1            0           1   \n",
       "1                          77        5767            0           0   \n",
       "2                          14        4004      5828815           0   \n",
       "3                          62          -1       107721           0   \n",
       "4                         224        8175         8725           0   \n",
       "\n",
       "   google_index  page_rank      status  \n",
       "0             1          4  legitimate  \n",
       "1             1          2    phishing  \n",
       "2             1          0    phishing  \n",
       "3             0          3  legitimate  \n",
       "4             0          6  legitimate  \n",
       "\n",
       "[5 rows x 89 columns]"
      ]
     },
     "execution_count": 3,
     "metadata": {},
     "output_type": "execute_result"
    }
   ],
   "source": [
    "df.head()"
   ]
  },
  {
   "cell_type": "code",
   "execution_count": 4,
   "id": "e39ea77f",
   "metadata": {
    "execution": {
     "iopub.execute_input": "2022-01-06T19:42:37.981009Z",
     "iopub.status.busy": "2022-01-06T19:42:37.980083Z",
     "iopub.status.idle": "2022-01-06T19:42:38.009546Z",
     "shell.execute_reply": "2022-01-06T19:42:38.010002Z",
     "shell.execute_reply.started": "2022-01-06T19:41:43.353638Z"
    },
    "papermill": {
     "duration": 0.06353,
     "end_time": "2022-01-06T19:42:38.010179",
     "exception": false,
     "start_time": "2022-01-06T19:42:37.946649",
     "status": "completed"
    },
    "tags": []
   },
   "outputs": [
    {
     "name": "stdout",
     "output_type": "stream",
     "text": [
      "<class 'pandas.core.frame.DataFrame'>\n",
      "RangeIndex: 11430 entries, 0 to 11429\n",
      "Data columns (total 89 columns):\n",
      " #   Column                      Non-Null Count  Dtype  \n",
      "---  ------                      --------------  -----  \n",
      " 0   url                         11430 non-null  object \n",
      " 1   length_url                  11430 non-null  int64  \n",
      " 2   length_hostname             11430 non-null  int64  \n",
      " 3   ip                          11430 non-null  int64  \n",
      " 4   nb_dots                     11430 non-null  int64  \n",
      " 5   nb_hyphens                  11430 non-null  int64  \n",
      " 6   nb_at                       11430 non-null  int64  \n",
      " 7   nb_qm                       11430 non-null  int64  \n",
      " 8   nb_and                      11430 non-null  int64  \n",
      " 9   nb_or                       11430 non-null  int64  \n",
      " 10  nb_eq                       11430 non-null  int64  \n",
      " 11  nb_underscore               11430 non-null  int64  \n",
      " 12  nb_tilde                    11430 non-null  int64  \n",
      " 13  nb_percent                  11430 non-null  int64  \n",
      " 14  nb_slash                    11430 non-null  int64  \n",
      " 15  nb_star                     11430 non-null  int64  \n",
      " 16  nb_colon                    11430 non-null  int64  \n",
      " 17  nb_comma                    11430 non-null  int64  \n",
      " 18  nb_semicolumn               11430 non-null  int64  \n",
      " 19  nb_dollar                   11430 non-null  int64  \n",
      " 20  nb_space                    11430 non-null  int64  \n",
      " 21  nb_www                      11430 non-null  int64  \n",
      " 22  nb_com                      11430 non-null  int64  \n",
      " 23  nb_dslash                   11430 non-null  int64  \n",
      " 24  http_in_path                11430 non-null  int64  \n",
      " 25  https_token                 11430 non-null  int64  \n",
      " 26  ratio_digits_url            11430 non-null  float64\n",
      " 27  ratio_digits_host           11430 non-null  float64\n",
      " 28  punycode                    11430 non-null  int64  \n",
      " 29  port                        11430 non-null  int64  \n",
      " 30  tld_in_path                 11430 non-null  int64  \n",
      " 31  tld_in_subdomain            11430 non-null  int64  \n",
      " 32  abnormal_subdomain          11430 non-null  int64  \n",
      " 33  nb_subdomains               11430 non-null  int64  \n",
      " 34  prefix_suffix               11430 non-null  int64  \n",
      " 35  random_domain               11430 non-null  int64  \n",
      " 36  shortening_service          11430 non-null  int64  \n",
      " 37  path_extension              11430 non-null  int64  \n",
      " 38  nb_redirection              11430 non-null  int64  \n",
      " 39  nb_external_redirection     11430 non-null  int64  \n",
      " 40  length_words_raw            11430 non-null  int64  \n",
      " 41  char_repeat                 11430 non-null  int64  \n",
      " 42  shortest_words_raw          11430 non-null  int64  \n",
      " 43  shortest_word_host          11430 non-null  int64  \n",
      " 44  shortest_word_path          11430 non-null  int64  \n",
      " 45  longest_words_raw           11430 non-null  int64  \n",
      " 46  longest_word_host           11430 non-null  int64  \n",
      " 47  longest_word_path           11430 non-null  int64  \n",
      " 48  avg_words_raw               11430 non-null  float64\n",
      " 49  avg_word_host               11430 non-null  float64\n",
      " 50  avg_word_path               11430 non-null  float64\n",
      " 51  phish_hints                 11430 non-null  int64  \n",
      " 52  domain_in_brand             11430 non-null  int64  \n",
      " 53  brand_in_subdomain          11430 non-null  int64  \n",
      " 54  brand_in_path               11430 non-null  int64  \n",
      " 55  suspecious_tld              11430 non-null  int64  \n",
      " 56  statistical_report          11430 non-null  int64  \n",
      " 57  nb_hyperlinks               11430 non-null  int64  \n",
      " 58  ratio_intHyperlinks         11430 non-null  float64\n",
      " 59  ratio_extHyperlinks         11430 non-null  float64\n",
      " 60  ratio_nullHyperlinks        11430 non-null  int64  \n",
      " 61  nb_extCSS                   11430 non-null  int64  \n",
      " 62  ratio_intRedirection        11430 non-null  int64  \n",
      " 63  ratio_extRedirection        11430 non-null  float64\n",
      " 64  ratio_intErrors             11430 non-null  int64  \n",
      " 65  ratio_extErrors             11430 non-null  float64\n",
      " 66  login_form                  11430 non-null  int64  \n",
      " 67  external_favicon            11430 non-null  int64  \n",
      " 68  links_in_tags               11430 non-null  float64\n",
      " 69  submit_email                11430 non-null  int64  \n",
      " 70  ratio_intMedia              11430 non-null  float64\n",
      " 71  ratio_extMedia              11430 non-null  float64\n",
      " 72  sfh                         11430 non-null  int64  \n",
      " 73  iframe                      11430 non-null  int64  \n",
      " 74  popup_window                11430 non-null  int64  \n",
      " 75  safe_anchor                 11430 non-null  float64\n",
      " 76  onmouseover                 11430 non-null  int64  \n",
      " 77  right_clic                  11430 non-null  int64  \n",
      " 78  empty_title                 11430 non-null  int64  \n",
      " 79  domain_in_title             11430 non-null  int64  \n",
      " 80  domain_with_copyright       11430 non-null  int64  \n",
      " 81  whois_registered_domain     11430 non-null  int64  \n",
      " 82  domain_registration_length  11430 non-null  int64  \n",
      " 83  domain_age                  11430 non-null  int64  \n",
      " 84  web_traffic                 11430 non-null  int64  \n",
      " 85  dns_record                  11430 non-null  int64  \n",
      " 86  google_index                11430 non-null  int64  \n",
      " 87  page_rank                   11430 non-null  int64  \n",
      " 88  status                      11430 non-null  object \n",
      "dtypes: float64(13), int64(74), object(2)\n",
      "memory usage: 7.8+ MB\n"
     ]
    }
   ],
   "source": [
    "df.info()"
   ]
  },
  {
   "cell_type": "code",
   "execution_count": 5,
   "metadata": {},
   "outputs": [
    {
     "data": {
      "text/html": [
       "<div>\n",
       "<style scoped>\n",
       "    .dataframe tbody tr th:only-of-type {\n",
       "        vertical-align: middle;\n",
       "    }\n",
       "\n",
       "    .dataframe tbody tr th {\n",
       "        vertical-align: top;\n",
       "    }\n",
       "\n",
       "    .dataframe thead th {\n",
       "        text-align: right;\n",
       "    }\n",
       "</style>\n",
       "<table border=\"1\" class=\"dataframe\">\n",
       "  <thead>\n",
       "    <tr style=\"text-align: right;\">\n",
       "      <th></th>\n",
       "      <th>length_url</th>\n",
       "      <th>length_hostname</th>\n",
       "      <th>ip</th>\n",
       "      <th>nb_dots</th>\n",
       "      <th>nb_hyphens</th>\n",
       "      <th>nb_at</th>\n",
       "      <th>nb_qm</th>\n",
       "      <th>nb_and</th>\n",
       "      <th>nb_or</th>\n",
       "      <th>nb_eq</th>\n",
       "      <th>...</th>\n",
       "      <th>empty_title</th>\n",
       "      <th>domain_in_title</th>\n",
       "      <th>domain_with_copyright</th>\n",
       "      <th>whois_registered_domain</th>\n",
       "      <th>domain_registration_length</th>\n",
       "      <th>domain_age</th>\n",
       "      <th>web_traffic</th>\n",
       "      <th>dns_record</th>\n",
       "      <th>google_index</th>\n",
       "      <th>page_rank</th>\n",
       "    </tr>\n",
       "  </thead>\n",
       "  <tbody>\n",
       "    <tr>\n",
       "      <th>count</th>\n",
       "      <td>11430.000000</td>\n",
       "      <td>11430.000000</td>\n",
       "      <td>11430.000000</td>\n",
       "      <td>11430.000000</td>\n",
       "      <td>11430.000000</td>\n",
       "      <td>11430.000000</td>\n",
       "      <td>11430.000000</td>\n",
       "      <td>11430.000000</td>\n",
       "      <td>11430.0</td>\n",
       "      <td>11430.000000</td>\n",
       "      <td>...</td>\n",
       "      <td>11430.000000</td>\n",
       "      <td>11430.000000</td>\n",
       "      <td>11430.000000</td>\n",
       "      <td>11430.000000</td>\n",
       "      <td>11430.000000</td>\n",
       "      <td>11430.000000</td>\n",
       "      <td>1.143000e+04</td>\n",
       "      <td>11430.000000</td>\n",
       "      <td>11430.000000</td>\n",
       "      <td>11430.000000</td>\n",
       "    </tr>\n",
       "    <tr>\n",
       "      <th>mean</th>\n",
       "      <td>61.126684</td>\n",
       "      <td>21.090289</td>\n",
       "      <td>0.150569</td>\n",
       "      <td>2.480752</td>\n",
       "      <td>0.997550</td>\n",
       "      <td>0.022222</td>\n",
       "      <td>0.141207</td>\n",
       "      <td>0.162292</td>\n",
       "      <td>0.0</td>\n",
       "      <td>0.293176</td>\n",
       "      <td>...</td>\n",
       "      <td>0.124759</td>\n",
       "      <td>0.775853</td>\n",
       "      <td>0.439545</td>\n",
       "      <td>0.072878</td>\n",
       "      <td>492.532196</td>\n",
       "      <td>4062.543745</td>\n",
       "      <td>8.567566e+05</td>\n",
       "      <td>0.020122</td>\n",
       "      <td>0.533946</td>\n",
       "      <td>3.185739</td>\n",
       "    </tr>\n",
       "    <tr>\n",
       "      <th>std</th>\n",
       "      <td>55.297318</td>\n",
       "      <td>10.777171</td>\n",
       "      <td>0.357644</td>\n",
       "      <td>1.369686</td>\n",
       "      <td>2.087087</td>\n",
       "      <td>0.155500</td>\n",
       "      <td>0.364456</td>\n",
       "      <td>0.821337</td>\n",
       "      <td>0.0</td>\n",
       "      <td>0.998317</td>\n",
       "      <td>...</td>\n",
       "      <td>0.330460</td>\n",
       "      <td>0.417038</td>\n",
       "      <td>0.496353</td>\n",
       "      <td>0.259948</td>\n",
       "      <td>814.769415</td>\n",
       "      <td>3107.784600</td>\n",
       "      <td>1.995606e+06</td>\n",
       "      <td>0.140425</td>\n",
       "      <td>0.498868</td>\n",
       "      <td>2.536955</td>\n",
       "    </tr>\n",
       "    <tr>\n",
       "      <th>min</th>\n",
       "      <td>12.000000</td>\n",
       "      <td>4.000000</td>\n",
       "      <td>0.000000</td>\n",
       "      <td>1.000000</td>\n",
       "      <td>0.000000</td>\n",
       "      <td>0.000000</td>\n",
       "      <td>0.000000</td>\n",
       "      <td>0.000000</td>\n",
       "      <td>0.0</td>\n",
       "      <td>0.000000</td>\n",
       "      <td>...</td>\n",
       "      <td>0.000000</td>\n",
       "      <td>0.000000</td>\n",
       "      <td>0.000000</td>\n",
       "      <td>0.000000</td>\n",
       "      <td>-1.000000</td>\n",
       "      <td>-12.000000</td>\n",
       "      <td>0.000000e+00</td>\n",
       "      <td>0.000000</td>\n",
       "      <td>0.000000</td>\n",
       "      <td>0.000000</td>\n",
       "    </tr>\n",
       "    <tr>\n",
       "      <th>25%</th>\n",
       "      <td>33.000000</td>\n",
       "      <td>15.000000</td>\n",
       "      <td>0.000000</td>\n",
       "      <td>2.000000</td>\n",
       "      <td>0.000000</td>\n",
       "      <td>0.000000</td>\n",
       "      <td>0.000000</td>\n",
       "      <td>0.000000</td>\n",
       "      <td>0.0</td>\n",
       "      <td>0.000000</td>\n",
       "      <td>...</td>\n",
       "      <td>0.000000</td>\n",
       "      <td>1.000000</td>\n",
       "      <td>0.000000</td>\n",
       "      <td>0.000000</td>\n",
       "      <td>84.000000</td>\n",
       "      <td>972.250000</td>\n",
       "      <td>0.000000e+00</td>\n",
       "      <td>0.000000</td>\n",
       "      <td>0.000000</td>\n",
       "      <td>1.000000</td>\n",
       "    </tr>\n",
       "    <tr>\n",
       "      <th>50%</th>\n",
       "      <td>47.000000</td>\n",
       "      <td>19.000000</td>\n",
       "      <td>0.000000</td>\n",
       "      <td>2.000000</td>\n",
       "      <td>0.000000</td>\n",
       "      <td>0.000000</td>\n",
       "      <td>0.000000</td>\n",
       "      <td>0.000000</td>\n",
       "      <td>0.0</td>\n",
       "      <td>0.000000</td>\n",
       "      <td>...</td>\n",
       "      <td>0.000000</td>\n",
       "      <td>1.000000</td>\n",
       "      <td>0.000000</td>\n",
       "      <td>0.000000</td>\n",
       "      <td>242.000000</td>\n",
       "      <td>3993.000000</td>\n",
       "      <td>1.651000e+03</td>\n",
       "      <td>0.000000</td>\n",
       "      <td>1.000000</td>\n",
       "      <td>3.000000</td>\n",
       "    </tr>\n",
       "    <tr>\n",
       "      <th>75%</th>\n",
       "      <td>71.000000</td>\n",
       "      <td>24.000000</td>\n",
       "      <td>0.000000</td>\n",
       "      <td>3.000000</td>\n",
       "      <td>1.000000</td>\n",
       "      <td>0.000000</td>\n",
       "      <td>0.000000</td>\n",
       "      <td>0.000000</td>\n",
       "      <td>0.0</td>\n",
       "      <td>0.000000</td>\n",
       "      <td>...</td>\n",
       "      <td>0.000000</td>\n",
       "      <td>1.000000</td>\n",
       "      <td>1.000000</td>\n",
       "      <td>0.000000</td>\n",
       "      <td>449.000000</td>\n",
       "      <td>7026.750000</td>\n",
       "      <td>3.738455e+05</td>\n",
       "      <td>0.000000</td>\n",
       "      <td>1.000000</td>\n",
       "      <td>5.000000</td>\n",
       "    </tr>\n",
       "    <tr>\n",
       "      <th>max</th>\n",
       "      <td>1641.000000</td>\n",
       "      <td>214.000000</td>\n",
       "      <td>1.000000</td>\n",
       "      <td>24.000000</td>\n",
       "      <td>43.000000</td>\n",
       "      <td>4.000000</td>\n",
       "      <td>3.000000</td>\n",
       "      <td>19.000000</td>\n",
       "      <td>0.0</td>\n",
       "      <td>19.000000</td>\n",
       "      <td>...</td>\n",
       "      <td>1.000000</td>\n",
       "      <td>1.000000</td>\n",
       "      <td>1.000000</td>\n",
       "      <td>1.000000</td>\n",
       "      <td>29829.000000</td>\n",
       "      <td>12874.000000</td>\n",
       "      <td>1.076799e+07</td>\n",
       "      <td>1.000000</td>\n",
       "      <td>1.000000</td>\n",
       "      <td>10.000000</td>\n",
       "    </tr>\n",
       "  </tbody>\n",
       "</table>\n",
       "<p>8 rows × 87 columns</p>\n",
       "</div>"
      ],
      "text/plain": [
       "         length_url  length_hostname            ip       nb_dots  \\\n",
       "count  11430.000000     11430.000000  11430.000000  11430.000000   \n",
       "mean      61.126684        21.090289      0.150569      2.480752   \n",
       "std       55.297318        10.777171      0.357644      1.369686   \n",
       "min       12.000000         4.000000      0.000000      1.000000   \n",
       "25%       33.000000        15.000000      0.000000      2.000000   \n",
       "50%       47.000000        19.000000      0.000000      2.000000   \n",
       "75%       71.000000        24.000000      0.000000      3.000000   \n",
       "max     1641.000000       214.000000      1.000000     24.000000   \n",
       "\n",
       "         nb_hyphens         nb_at         nb_qm        nb_and    nb_or  \\\n",
       "count  11430.000000  11430.000000  11430.000000  11430.000000  11430.0   \n",
       "mean       0.997550      0.022222      0.141207      0.162292      0.0   \n",
       "std        2.087087      0.155500      0.364456      0.821337      0.0   \n",
       "min        0.000000      0.000000      0.000000      0.000000      0.0   \n",
       "25%        0.000000      0.000000      0.000000      0.000000      0.0   \n",
       "50%        0.000000      0.000000      0.000000      0.000000      0.0   \n",
       "75%        1.000000      0.000000      0.000000      0.000000      0.0   \n",
       "max       43.000000      4.000000      3.000000     19.000000      0.0   \n",
       "\n",
       "              nb_eq  ...   empty_title  domain_in_title  \\\n",
       "count  11430.000000  ...  11430.000000     11430.000000   \n",
       "mean       0.293176  ...      0.124759         0.775853   \n",
       "std        0.998317  ...      0.330460         0.417038   \n",
       "min        0.000000  ...      0.000000         0.000000   \n",
       "25%        0.000000  ...      0.000000         1.000000   \n",
       "50%        0.000000  ...      0.000000         1.000000   \n",
       "75%        0.000000  ...      0.000000         1.000000   \n",
       "max       19.000000  ...      1.000000         1.000000   \n",
       "\n",
       "       domain_with_copyright  whois_registered_domain  \\\n",
       "count           11430.000000             11430.000000   \n",
       "mean                0.439545                 0.072878   \n",
       "std                 0.496353                 0.259948   \n",
       "min                 0.000000                 0.000000   \n",
       "25%                 0.000000                 0.000000   \n",
       "50%                 0.000000                 0.000000   \n",
       "75%                 1.000000                 0.000000   \n",
       "max                 1.000000                 1.000000   \n",
       "\n",
       "       domain_registration_length    domain_age   web_traffic    dns_record  \\\n",
       "count                11430.000000  11430.000000  1.143000e+04  11430.000000   \n",
       "mean                   492.532196   4062.543745  8.567566e+05      0.020122   \n",
       "std                    814.769415   3107.784600  1.995606e+06      0.140425   \n",
       "min                     -1.000000    -12.000000  0.000000e+00      0.000000   \n",
       "25%                     84.000000    972.250000  0.000000e+00      0.000000   \n",
       "50%                    242.000000   3993.000000  1.651000e+03      0.000000   \n",
       "75%                    449.000000   7026.750000  3.738455e+05      0.000000   \n",
       "max                  29829.000000  12874.000000  1.076799e+07      1.000000   \n",
       "\n",
       "       google_index     page_rank  \n",
       "count  11430.000000  11430.000000  \n",
       "mean       0.533946      3.185739  \n",
       "std        0.498868      2.536955  \n",
       "min        0.000000      0.000000  \n",
       "25%        0.000000      1.000000  \n",
       "50%        1.000000      3.000000  \n",
       "75%        1.000000      5.000000  \n",
       "max        1.000000     10.000000  \n",
       "\n",
       "[8 rows x 87 columns]"
      ]
     },
     "execution_count": 5,
     "metadata": {},
     "output_type": "execute_result"
    }
   ],
   "source": [
    "df.describe()"
   ]
  },
  {
   "cell_type": "markdown",
   "metadata": {},
   "source": [
    "outliers at max values: nb_dots, nb_hyphens, nb_at, nb_qm, nb_and,nb_eq, domain_registration_length, domain_age <br>\n",
    "target = legitimate/phishing"
   ]
  },
  {
   "cell_type": "code",
   "execution_count": 6,
   "id": "376f9d16",
   "metadata": {
    "execution": {
     "iopub.execute_input": "2022-01-06T19:42:38.077812Z",
     "iopub.status.busy": "2022-01-06T19:42:38.077213Z",
     "iopub.status.idle": "2022-01-06T19:42:38.079305Z",
     "shell.execute_reply": "2022-01-06T19:42:38.079842Z",
     "shell.execute_reply.started": "2022-01-06T19:41:43.382044Z"
    },
    "papermill": {
     "duration": 0.038249,
     "end_time": "2022-01-06T19:42:38.079997",
     "exception": false,
     "start_time": "2022-01-06T19:42:38.041748",
     "status": "completed"
    },
    "tags": []
   },
   "outputs": [
    {
     "data": {
      "text/plain": [
       "(11430, 89)"
      ]
     },
     "execution_count": 6,
     "metadata": {},
     "output_type": "execute_result"
    }
   ],
   "source": [
    "df.shape"
   ]
  },
  {
   "cell_type": "code",
   "execution_count": 7,
   "id": "da679671",
   "metadata": {
    "execution": {
     "iopub.execute_input": "2022-01-06T19:42:38.145856Z",
     "iopub.status.busy": "2022-01-06T19:42:38.145272Z",
     "iopub.status.idle": "2022-01-06T19:42:38.156477Z",
     "shell.execute_reply": "2022-01-06T19:42:38.156999Z",
     "shell.execute_reply.started": "2022-01-06T19:41:43.389779Z"
    },
    "papermill": {
     "duration": 0.045734,
     "end_time": "2022-01-06T19:42:38.157159",
     "exception": false,
     "start_time": "2022-01-06T19:42:38.111425",
     "status": "completed"
    },
    "tags": []
   },
   "outputs": [
    {
     "data": {
      "text/plain": [
       "url                0\n",
       "length_url         0\n",
       "length_hostname    0\n",
       "ip                 0\n",
       "nb_dots            0\n",
       "                  ..\n",
       "web_traffic        0\n",
       "dns_record         0\n",
       "google_index       0\n",
       "page_rank          0\n",
       "status             0\n",
       "Length: 89, dtype: int64"
      ]
     },
     "execution_count": 7,
     "metadata": {},
     "output_type": "execute_result"
    }
   ],
   "source": [
    "df.isnull().sum()"
   ]
  },
  {
   "cell_type": "code",
   "execution_count": 8,
   "metadata": {},
   "outputs": [
    {
     "data": {
      "image/png": "[encoded data removed]",
      "text/plain": [
       "<Figure size 500x500 with 1 Axes>"
      ]
     },
     "metadata": {},
     "output_type": "display_data"
    }
   ],
   "source": [
    "plt.figure(figsize=(5, 5))  # Adjust the figure size if needed\n",
    "\n",
    "\n",
    "status_counts = df['status'].value_counts()\n",
    "colors = ['skyblue', 'lightcoral']\n",
    "explode = (0.5, 0)\n",
    "plt.pie(status_counts, labels=status_counts.index, autopct='%1.1f%%', startangle=90, wedgeprops=dict(width=0.4), explode=explode, colors=colors)\n",
    "plt.title(\"Distribution of Status\")\n",
    "\n",
    "# Add legend\n",
    "plt.legend(status_counts.index, loc=\"best\")\n",
    "\n",
    "plt.show()"
   ]
  },
  {
   "cell_type": "code",
   "execution_count": 9,
   "metadata": {},
   "outputs": [
    {
     "data": {
      "text/plain": [
       "legitimate    5715\n",
       "phishing      5715\n",
       "Name: status, dtype: int64"
      ]
     },
     "execution_count": 9,
     "metadata": {},
     "output_type": "execute_result"
    }
   ],
   "source": [
    "# checking unique values and counts from the collected object features\n",
    "df['status'].value_counts()"
   ]
  },
  {
   "cell_type": "code",
   "execution_count": 10,
   "id": "0417b9f9",
   "metadata": {
    "execution": {
     "iopub.execute_input": "2022-01-06T19:42:38.489147Z",
     "iopub.status.busy": "2022-01-06T19:42:38.488546Z",
     "iopub.status.idle": "2022-01-06T19:42:38.491841Z",
     "shell.execute_reply": "2022-01-06T19:42:38.492323Z",
     "shell.execute_reply.started": "2022-01-06T19:41:43.632786Z"
    },
    "papermill": {
     "duration": 0.038729,
     "end_time": "2022-01-06T19:42:38.492469",
     "exception": false,
     "start_time": "2022-01-06T19:42:38.453740",
     "status": "completed"
    },
    "tags": []
   },
   "outputs": [],
   "source": [
    "tokenizer = RegexpTokenizer(r'[A-Za-z]+')"
   ]
  },
  {
   "cell_type": "code",
   "execution_count": 11,
   "id": "63a6299b",
   "metadata": {
    "execution": {
     "iopub.execute_input": "2022-01-06T19:42:38.560617Z",
     "iopub.status.busy": "2022-01-06T19:42:38.560068Z",
     "iopub.status.idle": "2022-01-06T19:42:38.564948Z",
     "shell.execute_reply": "2022-01-06T19:42:38.565370Z",
     "shell.execute_reply.started": "2022-01-06T19:41:43.639289Z"
    },
    "papermill": {
     "duration": 0.040392,
     "end_time": "2022-01-06T19:42:38.565518",
     "exception": false,
     "start_time": "2022-01-06T19:42:38.525126",
     "status": "completed"
    },
    "tags": []
   },
   "outputs": [
    {
     "data": {
      "text/plain": [
       "['http', 'www', 'crestonwood', 'com', 'router', 'php']"
      ]
     },
     "execution_count": 11,
     "metadata": {},
     "output_type": "execute_result"
    }
   ],
   "source": [
    "tokenizer.tokenize(df.url[0]) # this will fetch all the words from the first URL"
   ]
  },
  {
   "cell_type": "code",
   "execution_count": 12,
   "id": "3259186a",
   "metadata": {
    "execution": {
     "iopub.execute_input": "2022-01-06T19:42:38.641576Z",
     "iopub.status.busy": "2022-01-06T19:42:38.641013Z",
     "iopub.status.idle": "2022-01-06T19:42:38.800383Z",
     "shell.execute_reply": "2022-01-06T19:42:38.800809Z",
     "shell.execute_reply.started": "2022-01-06T19:41:43.653723Z"
    },
    "papermill": {
     "duration": 0.202719,
     "end_time": "2022-01-06T19:42:38.800982",
     "exception": false,
     "start_time": "2022-01-06T19:42:38.598263",
     "status": "completed"
    },
    "tags": []
   },
   "outputs": [
    {
     "name": "stdout",
     "output_type": "stream",
     "text": [
      "Getting words tokenized ...\n",
      "Time taken 0.09300880000000156 sec\n"
     ]
    }
   ],
   "source": [
    "# Tokenizing all the rows \n",
    "print('Getting words tokenized ...')\n",
    "t0= time.perf_counter()\n",
    "df['text_tokenized'] = df.url.map(lambda t: tokenizer.tokenize(t))\n",
    "t1 = time.perf_counter() - t0\n",
    "print('Time taken',t1 ,'sec')"
   ]
  },
  {
   "cell_type": "code",
   "execution_count": 13,
   "id": "8f529874",
   "metadata": {
    "execution": {
     "iopub.execute_input": "2022-01-06T19:42:38.870378Z",
     "iopub.status.busy": "2022-01-06T19:42:38.869845Z",
     "iopub.status.idle": "2022-01-06T19:42:38.872732Z",
     "shell.execute_reply": "2022-01-06T19:42:38.873246Z",
     "shell.execute_reply.started": "2022-01-06T19:41:43.737574Z"
    },
    "papermill": {
     "duration": 0.039244,
     "end_time": "2022-01-06T19:42:38.873404",
     "exception": false,
     "start_time": "2022-01-06T19:42:38.834160",
     "status": "completed"
    },
    "tags": []
   },
   "outputs": [],
   "source": [
    "stemmer = SnowballStemmer(\"english\") # choose a language"
   ]
  },
  {
   "cell_type": "code",
   "execution_count": 14,
   "id": "693b9c54",
   "metadata": {
    "execution": {
     "iopub.execute_input": "2022-01-06T19:42:38.954394Z",
     "iopub.status.busy": "2022-01-06T19:42:38.949258Z",
     "iopub.status.idle": "2022-01-06T19:42:40.000841Z",
     "shell.execute_reply": "2022-01-06T19:42:40.001289Z",
     "shell.execute_reply.started": "2022-01-06T19:41:43.742901Z"
    },
    "papermill": {
     "duration": 1.095052,
     "end_time": "2022-01-06T19:42:40.001457",
     "exception": false,
     "start_time": "2022-01-06T19:42:38.906405",
     "status": "completed"
    },
    "tags": []
   },
   "outputs": [
    {
     "name": "stdout",
     "output_type": "stream",
     "text": [
      "Getting words stemmed ...\n"
     ]
    },
    {
     "name": "stdout",
     "output_type": "stream",
     "text": [
      "Time taken 2.360532600000001 sec\n"
     ]
    }
   ],
   "source": [
    "# Getting all the stemmed words\n",
    "print('Getting words stemmed ...')\n",
    "t0= time.perf_counter()\n",
    "df['text_stemmed'] = df['text_tokenized'].map(lambda l: [stemmer.stem(word) for word in l])\n",
    "t1= time.perf_counter() - t0\n",
    "print('Time taken',t1 ,'sec')"
   ]
  },
  {
   "cell_type": "code",
   "execution_count": 15,
   "id": "24ea0935",
   "metadata": {
    "execution": {
     "iopub.execute_input": "2022-01-06T19:42:40.074054Z",
     "iopub.status.busy": "2022-01-06T19:42:40.073316Z",
     "iopub.status.idle": "2022-01-06T19:42:40.098021Z",
     "shell.execute_reply": "2022-01-06T19:42:40.098487Z",
     "shell.execute_reply.started": "2022-01-06T19:41:45.276455Z"
    },
    "papermill": {
     "duration": 0.061682,
     "end_time": "2022-01-06T19:42:40.098655",
     "exception": false,
     "start_time": "2022-01-06T19:42:40.036973",
     "status": "completed"
    },
    "tags": []
   },
   "outputs": [
    {
     "data": {
      "text/html": [
       "<div>\n",
       "<style scoped>\n",
       "    .dataframe tbody tr th:only-of-type {\n",
       "        vertical-align: middle;\n",
       "    }\n",
       "\n",
       "    .dataframe tbody tr th {\n",
       "        vertical-align: top;\n",
       "    }\n",
       "\n",
       "    .dataframe thead th {\n",
       "        text-align: right;\n",
       "    }\n",
       "</style>\n",
       "<table border=\"1\" class=\"dataframe\">\n",
       "  <thead>\n",
       "    <tr style=\"text-align: right;\">\n",
       "      <th></th>\n",
       "      <th>url</th>\n",
       "      <th>length_url</th>\n",
       "      <th>length_hostname</th>\n",
       "      <th>ip</th>\n",
       "      <th>nb_dots</th>\n",
       "      <th>nb_hyphens</th>\n",
       "      <th>nb_at</th>\n",
       "      <th>nb_qm</th>\n",
       "      <th>nb_and</th>\n",
       "      <th>nb_or</th>\n",
       "      <th>...</th>\n",
       "      <th>whois_registered_domain</th>\n",
       "      <th>domain_registration_length</th>\n",
       "      <th>domain_age</th>\n",
       "      <th>web_traffic</th>\n",
       "      <th>dns_record</th>\n",
       "      <th>google_index</th>\n",
       "      <th>page_rank</th>\n",
       "      <th>status</th>\n",
       "      <th>text_tokenized</th>\n",
       "      <th>text_stemmed</th>\n",
       "    </tr>\n",
       "  </thead>\n",
       "  <tbody>\n",
       "    <tr>\n",
       "      <th>11338</th>\n",
       "      <td>http://forums.androidcentral.com/chromebooks/6...</td>\n",
       "      <td>80</td>\n",
       "      <td>25</td>\n",
       "      <td>0</td>\n",
       "      <td>3</td>\n",
       "      <td>3</td>\n",
       "      <td>0</td>\n",
       "      <td>0</td>\n",
       "      <td>0</td>\n",
       "      <td>0</td>\n",
       "      <td>...</td>\n",
       "      <td>0</td>\n",
       "      <td>1928</td>\n",
       "      <td>4646</td>\n",
       "      <td>2792</td>\n",
       "      <td>0</td>\n",
       "      <td>0</td>\n",
       "      <td>6</td>\n",
       "      <td>legitimate</td>\n",
       "      <td>[http, forums, androidcentral, com, chromebook...</td>\n",
       "      <td>[http, forum, androidcentr, com, chromebook, f...</td>\n",
       "    </tr>\n",
       "    <tr>\n",
       "      <th>10838</th>\n",
       "      <td>https://www.tumblr.com/safe-mode?url=http%3A%2...</td>\n",
       "      <td>83</td>\n",
       "      <td>14</td>\n",
       "      <td>0</td>\n",
       "      <td>4</td>\n",
       "      <td>4</td>\n",
       "      <td>0</td>\n",
       "      <td>1</td>\n",
       "      <td>0</td>\n",
       "      <td>0</td>\n",
       "      <td>...</td>\n",
       "      <td>0</td>\n",
       "      <td>1047</td>\n",
       "      <td>5161</td>\n",
       "      <td>114</td>\n",
       "      <td>0</td>\n",
       "      <td>1</td>\n",
       "      <td>8</td>\n",
       "      <td>legitimate</td>\n",
       "      <td>[https, www, tumblr, com, safe, mode, url, htt...</td>\n",
       "      <td>[https, www, tumblr, com, safe, mode, url, htt...</td>\n",
       "    </tr>\n",
       "    <tr>\n",
       "      <th>10917</th>\n",
       "      <td>https://microsoftaccountsecurityportal.wl.r.ap...</td>\n",
       "      <td>79</td>\n",
       "      <td>47</td>\n",
       "      <td>0</td>\n",
       "      <td>5</td>\n",
       "      <td>0</td>\n",
       "      <td>1</td>\n",
       "      <td>0</td>\n",
       "      <td>0</td>\n",
       "      <td>0</td>\n",
       "      <td>...</td>\n",
       "      <td>0</td>\n",
       "      <td>217</td>\n",
       "      <td>5627</td>\n",
       "      <td>0</td>\n",
       "      <td>0</td>\n",
       "      <td>1</td>\n",
       "      <td>5</td>\n",
       "      <td>phishing</td>\n",
       "      <td>[https, microsoftaccountsecurityportal, wl, r,...</td>\n",
       "      <td>[https, microsoftaccountsecurityport, wl, r, a...</td>\n",
       "    </tr>\n",
       "    <tr>\n",
       "      <th>975</th>\n",
       "      <td>http://clear.verify.clearpointsupplies.com/lil...</td>\n",
       "      <td>61</td>\n",
       "      <td>35</td>\n",
       "      <td>0</td>\n",
       "      <td>4</td>\n",
       "      <td>0</td>\n",
       "      <td>0</td>\n",
       "      <td>0</td>\n",
       "      <td>0</td>\n",
       "      <td>0</td>\n",
       "      <td>...</td>\n",
       "      <td>0</td>\n",
       "      <td>357</td>\n",
       "      <td>1834</td>\n",
       "      <td>0</td>\n",
       "      <td>0</td>\n",
       "      <td>1</td>\n",
       "      <td>0</td>\n",
       "      <td>phishing</td>\n",
       "      <td>[http, clear, verify, clearpointsupplies, com,...</td>\n",
       "      <td>[http, clear, verifi, clearpointsuppli, com, l...</td>\n",
       "    </tr>\n",
       "    <tr>\n",
       "      <th>10253</th>\n",
       "      <td>https://commons.wikimedia.org/wiki/Category:Im...</td>\n",
       "      <td>57</td>\n",
       "      <td>21</td>\n",
       "      <td>0</td>\n",
       "      <td>2</td>\n",
       "      <td>0</td>\n",
       "      <td>0</td>\n",
       "      <td>0</td>\n",
       "      <td>0</td>\n",
       "      <td>0</td>\n",
       "      <td>...</td>\n",
       "      <td>0</td>\n",
       "      <td>598</td>\n",
       "      <td>6342</td>\n",
       "      <td>294</td>\n",
       "      <td>0</td>\n",
       "      <td>0</td>\n",
       "      <td>5</td>\n",
       "      <td>legitimate</td>\n",
       "      <td>[https, commons, wikimedia, org, wiki, Categor...</td>\n",
       "      <td>[https, common, wikimedia, org, wiki, categori...</td>\n",
       "    </tr>\n",
       "  </tbody>\n",
       "</table>\n",
       "<p>5 rows × 91 columns</p>\n",
       "</div>"
      ],
      "text/plain": [
       "                                                     url  length_url  \\\n",
       "11338  http://forums.androidcentral.com/chromebooks/6...          80   \n",
       "10838  https://www.tumblr.com/safe-mode?url=http%3A%2...          83   \n",
       "10917  https://microsoftaccountsecurityportal.wl.r.ap...          79   \n",
       "975    http://clear.verify.clearpointsupplies.com/lil...          61   \n",
       "10253  https://commons.wikimedia.org/wiki/Category:Im...          57   \n",
       "\n",
       "       length_hostname  ip  nb_dots  nb_hyphens  nb_at  nb_qm  nb_and  nb_or  \\\n",
       "11338               25   0        3           3      0      0       0      0   \n",
       "10838               14   0        4           4      0      1       0      0   \n",
       "10917               47   0        5           0      1      0       0      0   \n",
       "975                 35   0        4           0      0      0       0      0   \n",
       "10253               21   0        2           0      0      0       0      0   \n",
       "\n",
       "       ...  whois_registered_domain  domain_registration_length  domain_age  \\\n",
       "11338  ...                        0                        1928        4646   \n",
       "10838  ...                        0                        1047        5161   \n",
       "10917  ...                        0                         217        5627   \n",
       "975    ...                        0                         357        1834   \n",
       "10253  ...                        0                         598        6342   \n",
       "\n",
       "       web_traffic  dns_record  google_index  page_rank      status  \\\n",
       "11338         2792           0             0          6  legitimate   \n",
       "10838          114           0             1          8  legitimate   \n",
       "10917            0           0             1          5    phishing   \n",
       "975              0           0             1          0    phishing   \n",
       "10253          294           0             0          5  legitimate   \n",
       "\n",
       "                                          text_tokenized  \\\n",
       "11338  [http, forums, androidcentral, com, chromebook...   \n",
       "10838  [https, www, tumblr, com, safe, mode, url, htt...   \n",
       "10917  [https, microsoftaccountsecurityportal, wl, r,...   \n",
       "975    [http, clear, verify, clearpointsupplies, com,...   \n",
       "10253  [https, commons, wikimedia, org, wiki, Categor...   \n",
       "\n",
       "                                            text_stemmed  \n",
       "11338  [http, forum, androidcentr, com, chromebook, f...  \n",
       "10838  [https, www, tumblr, com, safe, mode, url, htt...  \n",
       "10917  [https, microsoftaccountsecurityport, wl, r, a...  \n",
       "975    [http, clear, verifi, clearpointsuppli, com, l...  \n",
       "10253  [https, common, wikimedia, org, wiki, categori...  \n",
       "\n",
       "[5 rows x 91 columns]"
      ]
     },
     "execution_count": 15,
     "metadata": {},
     "output_type": "execute_result"
    }
   ],
   "source": [
    "df.sample(5)"
   ]
  },
  {
   "cell_type": "code",
   "execution_count": 16,
   "id": "0e8e5e9f",
   "metadata": {
    "execution": {
     "iopub.execute_input": "2022-01-06T19:42:40.178635Z",
     "iopub.status.busy": "2022-01-06T19:42:40.177336Z",
     "iopub.status.idle": "2022-01-06T19:42:40.183307Z",
     "shell.execute_reply": "2022-01-06T19:42:40.183775Z",
     "shell.execute_reply.started": "2022-01-06T19:41:45.307819Z"
    },
    "papermill": {
     "duration": 0.05099,
     "end_time": "2022-01-06T19:42:40.183952",
     "exception": false,
     "start_time": "2022-01-06T19:42:40.132962",
     "status": "completed"
    },
    "tags": []
   },
   "outputs": [
    {
     "name": "stdout",
     "output_type": "stream",
     "text": [
      "Get joiningwords ...\n",
      "Time taken 0.010698200000000213 sec\n"
     ]
    }
   ],
   "source": [
    "# Joining all the stemmmed words.\n",
    "print('Get joiningwords ...')\n",
    "t0= time.perf_counter()\n",
    "df['text_sent'] = df['text_stemmed'].map(lambda l: ' '.join(l))\n",
    "t1= time.perf_counter() - t0\n",
    "print('Time taken',t1 ,'sec')"
   ]
  },
  {
   "cell_type": "code",
   "execution_count": 17,
   "id": "9410d07b",
   "metadata": {
    "execution": {
     "iopub.execute_input": "2022-01-06T19:42:40.256452Z",
     "iopub.status.busy": "2022-01-06T19:42:40.255524Z",
     "iopub.status.idle": "2022-01-06T19:42:40.268586Z",
     "shell.execute_reply": "2022-01-06T19:42:40.269030Z",
     "shell.execute_reply.started": "2022-01-06T19:41:45.327027Z"
    },
    "papermill": {
     "duration": 0.050904,
     "end_time": "2022-01-06T19:42:40.269208",
     "exception": false,
     "start_time": "2022-01-06T19:42:40.218304",
     "status": "completed"
    },
    "tags": []
   },
   "outputs": [],
   "source": [
    "bad_sites = df[df.status == 'phishing']\n",
    "good_sites = df[df.status == 'legitimate']"
   ]
  },
  {
   "cell_type": "code",
   "execution_count": 18,
   "id": "3675e6d4",
   "metadata": {
    "execution": {
     "iopub.execute_input": "2022-01-06T19:42:40.345835Z",
     "iopub.status.busy": "2022-01-06T19:42:40.345189Z",
     "iopub.status.idle": "2022-01-06T19:42:40.363534Z",
     "shell.execute_reply": "2022-01-06T19:42:40.363060Z",
     "shell.execute_reply.started": "2022-01-06T19:41:45.350071Z"
    },
    "papermill": {
     "duration": 0.059669,
     "end_time": "2022-01-06T19:42:40.363691",
     "exception": false,
     "start_time": "2022-01-06T19:42:40.304022",
     "status": "completed"
    },
    "tags": []
   },
   "outputs": [
    {
     "data": {
      "text/html": [
       "<div>\n",
       "<style scoped>\n",
       "    .dataframe tbody tr th:only-of-type {\n",
       "        vertical-align: middle;\n",
       "    }\n",
       "\n",
       "    .dataframe tbody tr th {\n",
       "        vertical-align: top;\n",
       "    }\n",
       "\n",
       "    .dataframe thead th {\n",
       "        text-align: right;\n",
       "    }\n",
       "</style>\n",
       "<table border=\"1\" class=\"dataframe\">\n",
       "  <thead>\n",
       "    <tr style=\"text-align: right;\">\n",
       "      <th></th>\n",
       "      <th>url</th>\n",
       "      <th>length_url</th>\n",
       "      <th>length_hostname</th>\n",
       "      <th>ip</th>\n",
       "      <th>nb_dots</th>\n",
       "      <th>nb_hyphens</th>\n",
       "      <th>nb_at</th>\n",
       "      <th>nb_qm</th>\n",
       "      <th>nb_and</th>\n",
       "      <th>nb_or</th>\n",
       "      <th>...</th>\n",
       "      <th>domain_registration_length</th>\n",
       "      <th>domain_age</th>\n",
       "      <th>web_traffic</th>\n",
       "      <th>dns_record</th>\n",
       "      <th>google_index</th>\n",
       "      <th>page_rank</th>\n",
       "      <th>status</th>\n",
       "      <th>text_tokenized</th>\n",
       "      <th>text_stemmed</th>\n",
       "      <th>text_sent</th>\n",
       "    </tr>\n",
       "  </thead>\n",
       "  <tbody>\n",
       "    <tr>\n",
       "      <th>1</th>\n",
       "      <td>http://shadetreetechnology.com/V4/validation/a...</td>\n",
       "      <td>77</td>\n",
       "      <td>23</td>\n",
       "      <td>1</td>\n",
       "      <td>1</td>\n",
       "      <td>0</td>\n",
       "      <td>0</td>\n",
       "      <td>0</td>\n",
       "      <td>0</td>\n",
       "      <td>0</td>\n",
       "      <td>...</td>\n",
       "      <td>77</td>\n",
       "      <td>5767</td>\n",
       "      <td>0</td>\n",
       "      <td>0</td>\n",
       "      <td>1</td>\n",
       "      <td>2</td>\n",
       "      <td>phishing</td>\n",
       "      <td>[http, shadetreetechnology, com, V, validation...</td>\n",
       "      <td>[http, shadetreetechnolog, com, v, valid, a, a...</td>\n",
       "      <td>http shadetreetechnolog com v valid a aedc ae ...</td>\n",
       "    </tr>\n",
       "    <tr>\n",
       "      <th>2</th>\n",
       "      <td>https://support-appleld.com.secureupdate.duila...</td>\n",
       "      <td>126</td>\n",
       "      <td>50</td>\n",
       "      <td>1</td>\n",
       "      <td>4</td>\n",
       "      <td>1</td>\n",
       "      <td>0</td>\n",
       "      <td>1</td>\n",
       "      <td>2</td>\n",
       "      <td>0</td>\n",
       "      <td>...</td>\n",
       "      <td>14</td>\n",
       "      <td>4004</td>\n",
       "      <td>5828815</td>\n",
       "      <td>0</td>\n",
       "      <td>1</td>\n",
       "      <td>0</td>\n",
       "      <td>phishing</td>\n",
       "      <td>[https, support, appleld, com, secureupdate, d...</td>\n",
       "      <td>[https, support, appleld, com, secureupd, duil...</td>\n",
       "      <td>https support appleld com secureupd duilawyery...</td>\n",
       "    </tr>\n",
       "    <tr>\n",
       "      <th>5</th>\n",
       "      <td>http://appleid.apple.com-app.es/</td>\n",
       "      <td>32</td>\n",
       "      <td>24</td>\n",
       "      <td>0</td>\n",
       "      <td>3</td>\n",
       "      <td>1</td>\n",
       "      <td>0</td>\n",
       "      <td>0</td>\n",
       "      <td>0</td>\n",
       "      <td>0</td>\n",
       "      <td>...</td>\n",
       "      <td>0</td>\n",
       "      <td>-1</td>\n",
       "      <td>0</td>\n",
       "      <td>0</td>\n",
       "      <td>1</td>\n",
       "      <td>0</td>\n",
       "      <td>phishing</td>\n",
       "      <td>[http, appleid, apple, com, app, es]</td>\n",
       "      <td>[http, appleid, appl, com, app, es]</td>\n",
       "      <td>http appleid appl com app es</td>\n",
       "    </tr>\n",
       "    <tr>\n",
       "      <th>7</th>\n",
       "      <td>http://www.shadetreetechnology.com/V4/validati...</td>\n",
       "      <td>81</td>\n",
       "      <td>27</td>\n",
       "      <td>1</td>\n",
       "      <td>2</td>\n",
       "      <td>0</td>\n",
       "      <td>0</td>\n",
       "      <td>0</td>\n",
       "      <td>0</td>\n",
       "      <td>0</td>\n",
       "      <td>...</td>\n",
       "      <td>76</td>\n",
       "      <td>5767</td>\n",
       "      <td>0</td>\n",
       "      <td>0</td>\n",
       "      <td>1</td>\n",
       "      <td>2</td>\n",
       "      <td>phishing</td>\n",
       "      <td>[http, www, shadetreetechnology, com, V, valid...</td>\n",
       "      <td>[http, www, shadetreetechnolog, com, v, valid,...</td>\n",
       "      <td>http www shadetreetechnolog com v valid ba b b...</td>\n",
       "    </tr>\n",
       "    <tr>\n",
       "      <th>13</th>\n",
       "      <td>http://html.house/l7ceeid6.html</td>\n",
       "      <td>31</td>\n",
       "      <td>10</td>\n",
       "      <td>0</td>\n",
       "      <td>2</td>\n",
       "      <td>0</td>\n",
       "      <td>0</td>\n",
       "      <td>0</td>\n",
       "      <td>0</td>\n",
       "      <td>0</td>\n",
       "      <td>...</td>\n",
       "      <td>66</td>\n",
       "      <td>1761</td>\n",
       "      <td>1173197</td>\n",
       "      <td>0</td>\n",
       "      <td>1</td>\n",
       "      <td>4</td>\n",
       "      <td>phishing</td>\n",
       "      <td>[http, html, house, l, ceeid, html]</td>\n",
       "      <td>[http, html, hous, l, ceeid, html]</td>\n",
       "      <td>http html hous l ceeid html</td>\n",
       "    </tr>\n",
       "  </tbody>\n",
       "</table>\n",
       "<p>5 rows × 92 columns</p>\n",
       "</div>"
      ],
      "text/plain": [
       "                                                  url  length_url  \\\n",
       "1   http://shadetreetechnology.com/V4/validation/a...          77   \n",
       "2   https://support-appleld.com.secureupdate.duila...         126   \n",
       "5                    http://appleid.apple.com-app.es/          32   \n",
       "7   http://www.shadetreetechnology.com/V4/validati...          81   \n",
       "13                    http://html.house/l7ceeid6.html          31   \n",
       "\n",
       "    length_hostname  ip  nb_dots  nb_hyphens  nb_at  nb_qm  nb_and  nb_or  \\\n",
       "1                23   1        1           0      0      0       0      0   \n",
       "2                50   1        4           1      0      1       2      0   \n",
       "5                24   0        3           1      0      0       0      0   \n",
       "7                27   1        2           0      0      0       0      0   \n",
       "13               10   0        2           0      0      0       0      0   \n",
       "\n",
       "    ...  domain_registration_length  domain_age  web_traffic  dns_record  \\\n",
       "1   ...                          77        5767            0           0   \n",
       "2   ...                          14        4004      5828815           0   \n",
       "5   ...                           0          -1            0           0   \n",
       "7   ...                          76        5767            0           0   \n",
       "13  ...                          66        1761      1173197           0   \n",
       "\n",
       "    google_index  page_rank    status  \\\n",
       "1              1          2  phishing   \n",
       "2              1          0  phishing   \n",
       "5              1          0  phishing   \n",
       "7              1          2  phishing   \n",
       "13             1          4  phishing   \n",
       "\n",
       "                                       text_tokenized  \\\n",
       "1   [http, shadetreetechnology, com, V, validation...   \n",
       "2   [https, support, appleld, com, secureupdate, d...   \n",
       "5                [http, appleid, apple, com, app, es]   \n",
       "7   [http, www, shadetreetechnology, com, V, valid...   \n",
       "13                [http, html, house, l, ceeid, html]   \n",
       "\n",
       "                                         text_stemmed  \\\n",
       "1   [http, shadetreetechnolog, com, v, valid, a, a...   \n",
       "2   [https, support, appleld, com, secureupd, duil...   \n",
       "5                 [http, appleid, appl, com, app, es]   \n",
       "7   [http, www, shadetreetechnolog, com, v, valid,...   \n",
       "13                 [http, html, hous, l, ceeid, html]   \n",
       "\n",
       "                                            text_sent  \n",
       "1   http shadetreetechnolog com v valid a aedc ae ...  \n",
       "2   https support appleld com secureupd duilawyery...  \n",
       "5                        http appleid appl com app es  \n",
       "7   http www shadetreetechnolog com v valid ba b b...  \n",
       "13                        http html hous l ceeid html  \n",
       "\n",
       "[5 rows x 92 columns]"
      ]
     },
     "execution_count": 18,
     "metadata": {},
     "output_type": "execute_result"
    }
   ],
   "source": [
    "bad_sites.head()"
   ]
  },
  {
   "cell_type": "code",
   "execution_count": 19,
   "id": "386c0c0c",
   "metadata": {
    "execution": {
     "iopub.execute_input": "2022-01-06T19:42:40.442451Z",
     "iopub.status.busy": "2022-01-06T19:42:40.441440Z",
     "iopub.status.idle": "2022-01-06T19:42:40.459796Z",
     "shell.execute_reply": "2022-01-06T19:42:40.460206Z",
     "shell.execute_reply.started": "2022-01-06T19:41:45.378593Z"
    },
    "papermill": {
     "duration": 0.061514,
     "end_time": "2022-01-06T19:42:40.460383",
     "exception": false,
     "start_time": "2022-01-06T19:42:40.398869",
     "status": "completed"
    },
    "tags": []
   },
   "outputs": [
    {
     "data": {
      "text/html": [
       "<div>\n",
       "<style scoped>\n",
       "    .dataframe tbody tr th:only-of-type {\n",
       "        vertical-align: middle;\n",
       "    }\n",
       "\n",
       "    .dataframe tbody tr th {\n",
       "        vertical-align: top;\n",
       "    }\n",
       "\n",
       "    .dataframe thead th {\n",
       "        text-align: right;\n",
       "    }\n",
       "</style>\n",
       "<table border=\"1\" class=\"dataframe\">\n",
       "  <thead>\n",
       "    <tr style=\"text-align: right;\">\n",
       "      <th></th>\n",
       "      <th>url</th>\n",
       "      <th>length_url</th>\n",
       "      <th>length_hostname</th>\n",
       "      <th>ip</th>\n",
       "      <th>nb_dots</th>\n",
       "      <th>nb_hyphens</th>\n",
       "      <th>nb_at</th>\n",
       "      <th>nb_qm</th>\n",
       "      <th>nb_and</th>\n",
       "      <th>nb_or</th>\n",
       "      <th>...</th>\n",
       "      <th>domain_registration_length</th>\n",
       "      <th>domain_age</th>\n",
       "      <th>web_traffic</th>\n",
       "      <th>dns_record</th>\n",
       "      <th>google_index</th>\n",
       "      <th>page_rank</th>\n",
       "      <th>status</th>\n",
       "      <th>text_tokenized</th>\n",
       "      <th>text_stemmed</th>\n",
       "      <th>text_sent</th>\n",
       "    </tr>\n",
       "  </thead>\n",
       "  <tbody>\n",
       "    <tr>\n",
       "      <th>0</th>\n",
       "      <td>http://www.crestonwood.com/router.php</td>\n",
       "      <td>37</td>\n",
       "      <td>19</td>\n",
       "      <td>0</td>\n",
       "      <td>3</td>\n",
       "      <td>0</td>\n",
       "      <td>0</td>\n",
       "      <td>0</td>\n",
       "      <td>0</td>\n",
       "      <td>0</td>\n",
       "      <td>...</td>\n",
       "      <td>45</td>\n",
       "      <td>-1</td>\n",
       "      <td>0</td>\n",
       "      <td>1</td>\n",
       "      <td>1</td>\n",
       "      <td>4</td>\n",
       "      <td>legitimate</td>\n",
       "      <td>[http, www, crestonwood, com, router, php]</td>\n",
       "      <td>[http, www, crestonwood, com, router, php]</td>\n",
       "      <td>http www crestonwood com router php</td>\n",
       "    </tr>\n",
       "    <tr>\n",
       "      <th>3</th>\n",
       "      <td>http://rgipt.ac.in</td>\n",
       "      <td>18</td>\n",
       "      <td>11</td>\n",
       "      <td>0</td>\n",
       "      <td>2</td>\n",
       "      <td>0</td>\n",
       "      <td>0</td>\n",
       "      <td>0</td>\n",
       "      <td>0</td>\n",
       "      <td>0</td>\n",
       "      <td>...</td>\n",
       "      <td>62</td>\n",
       "      <td>-1</td>\n",
       "      <td>107721</td>\n",
       "      <td>0</td>\n",
       "      <td>0</td>\n",
       "      <td>3</td>\n",
       "      <td>legitimate</td>\n",
       "      <td>[http, rgipt, ac, in]</td>\n",
       "      <td>[http, rgipt, ac, in]</td>\n",
       "      <td>http rgipt ac in</td>\n",
       "    </tr>\n",
       "    <tr>\n",
       "      <th>4</th>\n",
       "      <td>http://www.iracing.com/tracks/gateway-motorspo...</td>\n",
       "      <td>55</td>\n",
       "      <td>15</td>\n",
       "      <td>0</td>\n",
       "      <td>2</td>\n",
       "      <td>2</td>\n",
       "      <td>0</td>\n",
       "      <td>0</td>\n",
       "      <td>0</td>\n",
       "      <td>0</td>\n",
       "      <td>...</td>\n",
       "      <td>224</td>\n",
       "      <td>8175</td>\n",
       "      <td>8725</td>\n",
       "      <td>0</td>\n",
       "      <td>0</td>\n",
       "      <td>6</td>\n",
       "      <td>legitimate</td>\n",
       "      <td>[http, www, iracing, com, tracks, gateway, mot...</td>\n",
       "      <td>[http, www, irac, com, track, gateway, motorsp...</td>\n",
       "      <td>http www irac com track gateway motorsport park</td>\n",
       "    </tr>\n",
       "    <tr>\n",
       "      <th>6</th>\n",
       "      <td>http://www.mutuo.it</td>\n",
       "      <td>19</td>\n",
       "      <td>12</td>\n",
       "      <td>0</td>\n",
       "      <td>2</td>\n",
       "      <td>0</td>\n",
       "      <td>0</td>\n",
       "      <td>0</td>\n",
       "      <td>0</td>\n",
       "      <td>0</td>\n",
       "      <td>...</td>\n",
       "      <td>170</td>\n",
       "      <td>7529</td>\n",
       "      <td>0</td>\n",
       "      <td>0</td>\n",
       "      <td>0</td>\n",
       "      <td>1</td>\n",
       "      <td>legitimate</td>\n",
       "      <td>[http, www, mutuo, it]</td>\n",
       "      <td>[http, www, mutuo, it]</td>\n",
       "      <td>http www mutuo it</td>\n",
       "    </tr>\n",
       "    <tr>\n",
       "      <th>8</th>\n",
       "      <td>http://vamoaestudiarmedicina.blogspot.com/</td>\n",
       "      <td>42</td>\n",
       "      <td>34</td>\n",
       "      <td>0</td>\n",
       "      <td>2</td>\n",
       "      <td>0</td>\n",
       "      <td>0</td>\n",
       "      <td>0</td>\n",
       "      <td>0</td>\n",
       "      <td>0</td>\n",
       "      <td>...</td>\n",
       "      <td>371</td>\n",
       "      <td>7298</td>\n",
       "      <td>0</td>\n",
       "      <td>0</td>\n",
       "      <td>0</td>\n",
       "      <td>5</td>\n",
       "      <td>legitimate</td>\n",
       "      <td>[http, vamoaestudiarmedicina, blogspot, com]</td>\n",
       "      <td>[http, vamoaestudiarmedicina, blogspot, com]</td>\n",
       "      <td>http vamoaestudiarmedicina blogspot com</td>\n",
       "    </tr>\n",
       "  </tbody>\n",
       "</table>\n",
       "<p>5 rows × 92 columns</p>\n",
       "</div>"
      ],
      "text/plain": [
       "                                                 url  length_url  \\\n",
       "0              http://www.crestonwood.com/router.php          37   \n",
       "3                                 http://rgipt.ac.in          18   \n",
       "4  http://www.iracing.com/tracks/gateway-motorspo...          55   \n",
       "6                                http://www.mutuo.it          19   \n",
       "8         http://vamoaestudiarmedicina.blogspot.com/          42   \n",
       "\n",
       "   length_hostname  ip  nb_dots  nb_hyphens  nb_at  nb_qm  nb_and  nb_or  ...  \\\n",
       "0               19   0        3           0      0      0       0      0  ...   \n",
       "3               11   0        2           0      0      0       0      0  ...   \n",
       "4               15   0        2           2      0      0       0      0  ...   \n",
       "6               12   0        2           0      0      0       0      0  ...   \n",
       "8               34   0        2           0      0      0       0      0  ...   \n",
       "\n",
       "   domain_registration_length  domain_age  web_traffic  dns_record  \\\n",
       "0                          45          -1            0           1   \n",
       "3                          62          -1       107721           0   \n",
       "4                         224        8175         8725           0   \n",
       "6                         170        7529            0           0   \n",
       "8                         371        7298            0           0   \n",
       "\n",
       "   google_index  page_rank      status  \\\n",
       "0             1          4  legitimate   \n",
       "3             0          3  legitimate   \n",
       "4             0          6  legitimate   \n",
       "6             0          1  legitimate   \n",
       "8             0          5  legitimate   \n",
       "\n",
       "                                      text_tokenized  \\\n",
       "0         [http, www, crestonwood, com, router, php]   \n",
       "3                              [http, rgipt, ac, in]   \n",
       "4  [http, www, iracing, com, tracks, gateway, mot...   \n",
       "6                             [http, www, mutuo, it]   \n",
       "8       [http, vamoaestudiarmedicina, blogspot, com]   \n",
       "\n",
       "                                        text_stemmed  \\\n",
       "0         [http, www, crestonwood, com, router, php]   \n",
       "3                              [http, rgipt, ac, in]   \n",
       "4  [http, www, irac, com, track, gateway, motorsp...   \n",
       "6                             [http, www, mutuo, it]   \n",
       "8       [http, vamoaestudiarmedicina, blogspot, com]   \n",
       "\n",
       "                                         text_sent  \n",
       "0              http www crestonwood com router php  \n",
       "3                                 http rgipt ac in  \n",
       "4  http www irac com track gateway motorsport park  \n",
       "6                                http www mutuo it  \n",
       "8          http vamoaestudiarmedicina blogspot com  \n",
       "\n",
       "[5 rows x 92 columns]"
      ]
     },
     "execution_count": 19,
     "metadata": {},
     "output_type": "execute_result"
    }
   ],
   "source": [
    "good_sites.head()"
   ]
  },
  {
   "cell_type": "code",
   "execution_count": 20,
   "id": "8eea6a03",
   "metadata": {
    "execution": {
     "iopub.execute_input": "2022-01-06T19:42:40.535000Z",
     "iopub.status.busy": "2022-01-06T19:42:40.534058Z",
     "iopub.status.idle": "2022-01-06T19:42:40.555525Z",
     "shell.execute_reply": "2022-01-06T19:42:40.554981Z",
     "shell.execute_reply.started": "2022-01-06T19:41:45.406444Z"
    },
    "papermill": {
     "duration": 0.059758,
     "end_time": "2022-01-06T19:42:40.555662",
     "exception": false,
     "start_time": "2022-01-06T19:42:40.495904",
     "status": "completed"
    },
    "tags": []
   },
   "outputs": [
    {
     "data": {
      "text/html": [
       "<div>\n",
       "<style scoped>\n",
       "    .dataframe tbody tr th:only-of-type {\n",
       "        vertical-align: middle;\n",
       "    }\n",
       "\n",
       "    .dataframe tbody tr th {\n",
       "        vertical-align: top;\n",
       "    }\n",
       "\n",
       "    .dataframe thead th {\n",
       "        text-align: right;\n",
       "    }\n",
       "</style>\n",
       "<table border=\"1\" class=\"dataframe\">\n",
       "  <thead>\n",
       "    <tr style=\"text-align: right;\">\n",
       "      <th></th>\n",
       "      <th>url</th>\n",
       "      <th>length_url</th>\n",
       "      <th>length_hostname</th>\n",
       "      <th>ip</th>\n",
       "      <th>nb_dots</th>\n",
       "      <th>nb_hyphens</th>\n",
       "      <th>nb_at</th>\n",
       "      <th>nb_qm</th>\n",
       "      <th>nb_and</th>\n",
       "      <th>nb_or</th>\n",
       "      <th>...</th>\n",
       "      <th>domain_registration_length</th>\n",
       "      <th>domain_age</th>\n",
       "      <th>web_traffic</th>\n",
       "      <th>dns_record</th>\n",
       "      <th>google_index</th>\n",
       "      <th>page_rank</th>\n",
       "      <th>status</th>\n",
       "      <th>text_tokenized</th>\n",
       "      <th>text_stemmed</th>\n",
       "      <th>text_sent</th>\n",
       "    </tr>\n",
       "  </thead>\n",
       "  <tbody>\n",
       "    <tr>\n",
       "      <th>0</th>\n",
       "      <td>http://www.crestonwood.com/router.php</td>\n",
       "      <td>37</td>\n",
       "      <td>19</td>\n",
       "      <td>0</td>\n",
       "      <td>3</td>\n",
       "      <td>0</td>\n",
       "      <td>0</td>\n",
       "      <td>0</td>\n",
       "      <td>0</td>\n",
       "      <td>0</td>\n",
       "      <td>...</td>\n",
       "      <td>45</td>\n",
       "      <td>-1</td>\n",
       "      <td>0</td>\n",
       "      <td>1</td>\n",
       "      <td>1</td>\n",
       "      <td>4</td>\n",
       "      <td>legitimate</td>\n",
       "      <td>[http, www, crestonwood, com, router, php]</td>\n",
       "      <td>[http, www, crestonwood, com, router, php]</td>\n",
       "      <td>http www crestonwood com router php</td>\n",
       "    </tr>\n",
       "    <tr>\n",
       "      <th>1</th>\n",
       "      <td>http://shadetreetechnology.com/V4/validation/a...</td>\n",
       "      <td>77</td>\n",
       "      <td>23</td>\n",
       "      <td>1</td>\n",
       "      <td>1</td>\n",
       "      <td>0</td>\n",
       "      <td>0</td>\n",
       "      <td>0</td>\n",
       "      <td>0</td>\n",
       "      <td>0</td>\n",
       "      <td>...</td>\n",
       "      <td>77</td>\n",
       "      <td>5767</td>\n",
       "      <td>0</td>\n",
       "      <td>0</td>\n",
       "      <td>1</td>\n",
       "      <td>2</td>\n",
       "      <td>phishing</td>\n",
       "      <td>[http, shadetreetechnology, com, V, validation...</td>\n",
       "      <td>[http, shadetreetechnolog, com, v, valid, a, a...</td>\n",
       "      <td>http shadetreetechnolog com v valid a aedc ae ...</td>\n",
       "    </tr>\n",
       "    <tr>\n",
       "      <th>2</th>\n",
       "      <td>https://support-appleld.com.secureupdate.duila...</td>\n",
       "      <td>126</td>\n",
       "      <td>50</td>\n",
       "      <td>1</td>\n",
       "      <td>4</td>\n",
       "      <td>1</td>\n",
       "      <td>0</td>\n",
       "      <td>1</td>\n",
       "      <td>2</td>\n",
       "      <td>0</td>\n",
       "      <td>...</td>\n",
       "      <td>14</td>\n",
       "      <td>4004</td>\n",
       "      <td>5828815</td>\n",
       "      <td>0</td>\n",
       "      <td>1</td>\n",
       "      <td>0</td>\n",
       "      <td>phishing</td>\n",
       "      <td>[https, support, appleld, com, secureupdate, d...</td>\n",
       "      <td>[https, support, appleld, com, secureupd, duil...</td>\n",
       "      <td>https support appleld com secureupd duilawyery...</td>\n",
       "    </tr>\n",
       "    <tr>\n",
       "      <th>3</th>\n",
       "      <td>http://rgipt.ac.in</td>\n",
       "      <td>18</td>\n",
       "      <td>11</td>\n",
       "      <td>0</td>\n",
       "      <td>2</td>\n",
       "      <td>0</td>\n",
       "      <td>0</td>\n",
       "      <td>0</td>\n",
       "      <td>0</td>\n",
       "      <td>0</td>\n",
       "      <td>...</td>\n",
       "      <td>62</td>\n",
       "      <td>-1</td>\n",
       "      <td>107721</td>\n",
       "      <td>0</td>\n",
       "      <td>0</td>\n",
       "      <td>3</td>\n",
       "      <td>legitimate</td>\n",
       "      <td>[http, rgipt, ac, in]</td>\n",
       "      <td>[http, rgipt, ac, in]</td>\n",
       "      <td>http rgipt ac in</td>\n",
       "    </tr>\n",
       "    <tr>\n",
       "      <th>4</th>\n",
       "      <td>http://www.iracing.com/tracks/gateway-motorspo...</td>\n",
       "      <td>55</td>\n",
       "      <td>15</td>\n",
       "      <td>0</td>\n",
       "      <td>2</td>\n",
       "      <td>2</td>\n",
       "      <td>0</td>\n",
       "      <td>0</td>\n",
       "      <td>0</td>\n",
       "      <td>0</td>\n",
       "      <td>...</td>\n",
       "      <td>224</td>\n",
       "      <td>8175</td>\n",
       "      <td>8725</td>\n",
       "      <td>0</td>\n",
       "      <td>0</td>\n",
       "      <td>6</td>\n",
       "      <td>legitimate</td>\n",
       "      <td>[http, www, iracing, com, tracks, gateway, mot...</td>\n",
       "      <td>[http, www, irac, com, track, gateway, motorsp...</td>\n",
       "      <td>http www irac com track gateway motorsport park</td>\n",
       "    </tr>\n",
       "  </tbody>\n",
       "</table>\n",
       "<p>5 rows × 92 columns</p>\n",
       "</div>"
      ],
      "text/plain": [
       "                                                 url  length_url  \\\n",
       "0              http://www.crestonwood.com/router.php          37   \n",
       "1  http://shadetreetechnology.com/V4/validation/a...          77   \n",
       "2  https://support-appleld.com.secureupdate.duila...         126   \n",
       "3                                 http://rgipt.ac.in          18   \n",
       "4  http://www.iracing.com/tracks/gateway-motorspo...          55   \n",
       "\n",
       "   length_hostname  ip  nb_dots  nb_hyphens  nb_at  nb_qm  nb_and  nb_or  ...  \\\n",
       "0               19   0        3           0      0      0       0      0  ...   \n",
       "1               23   1        1           0      0      0       0      0  ...   \n",
       "2               50   1        4           1      0      1       2      0  ...   \n",
       "3               11   0        2           0      0      0       0      0  ...   \n",
       "4               15   0        2           2      0      0       0      0  ...   \n",
       "\n",
       "   domain_registration_length  domain_age  web_traffic  dns_record  \\\n",
       "0                          45          -1            0           1   \n",
       "1                          77        5767            0           0   \n",
       "2                          14        4004      5828815           0   \n",
       "3                          62          -1       107721           0   \n",
       "4                         224        8175         8725           0   \n",
       "\n",
       "   google_index  page_rank      status  \\\n",
       "0             1          4  legitimate   \n",
       "1             1          2    phishing   \n",
       "2             1          0    phishing   \n",
       "3             0          3  legitimate   \n",
       "4             0          6  legitimate   \n",
       "\n",
       "                                      text_tokenized  \\\n",
       "0         [http, www, crestonwood, com, router, php]   \n",
       "1  [http, shadetreetechnology, com, V, validation...   \n",
       "2  [https, support, appleld, com, secureupdate, d...   \n",
       "3                              [http, rgipt, ac, in]   \n",
       "4  [http, www, iracing, com, tracks, gateway, mot...   \n",
       "\n",
       "                                        text_stemmed  \\\n",
       "0         [http, www, crestonwood, com, router, php]   \n",
       "1  [http, shadetreetechnolog, com, v, valid, a, a...   \n",
       "2  [https, support, appleld, com, secureupd, duil...   \n",
       "3                              [http, rgipt, ac, in]   \n",
       "4  [http, www, irac, com, track, gateway, motorsp...   \n",
       "\n",
       "                                           text_sent  \n",
       "0                http www crestonwood com router php  \n",
       "1  http shadetreetechnolog com v valid a aedc ae ...  \n",
       "2  https support appleld com secureupd duilawyery...  \n",
       "3                                   http rgipt ac in  \n",
       "4    http www irac com track gateway motorsport park  \n",
       "\n",
       "[5 rows x 92 columns]"
      ]
     },
     "execution_count": 20,
     "metadata": {},
     "output_type": "execute_result"
    }
   ],
   "source": [
    "df.head()"
   ]
  },
  {
   "cell_type": "markdown",
   "id": "cbdf70fe",
   "metadata": {
    "papermill": {
     "duration": 0.035593,
     "end_time": "2022-01-06T19:42:40.627506",
     "exception": false,
     "start_time": "2022-01-06T19:42:40.591913",
     "status": "completed"
    },
    "tags": []
   },
   "source": [
    "Creating Model\n",
    "\n"
   ]
  },
  {
   "cell_type": "markdown",
   "id": "b1868eee",
   "metadata": {
    "papermill": {
     "duration": 0.035745,
     "end_time": "2022-01-06T19:42:40.699163",
     "exception": false,
     "start_time": "2022-01-06T19:42:40.663418",
     "status": "completed"
    },
    "tags": []
   },
   "source": [
    "CountVectorizer- Convert a collection of text documents to a matrix of token counts"
   ]
  },
  {
   "cell_type": "code",
   "execution_count": 21,
   "id": "04167c61",
   "metadata": {
    "execution": {
     "iopub.execute_input": "2022-01-06T19:42:40.774581Z",
     "iopub.status.busy": "2022-01-06T19:42:40.773946Z",
     "iopub.status.idle": "2022-01-06T19:42:40.777359Z",
     "shell.execute_reply": "2022-01-06T19:42:40.777846Z",
     "shell.execute_reply.started": "2022-01-06T19:41:45.441382Z"
    },
    "papermill": {
     "duration": 0.042628,
     "end_time": "2022-01-06T19:42:40.778025",
     "exception": false,
     "start_time": "2022-01-06T19:42:40.735397",
     "status": "completed"
    },
    "tags": []
   },
   "outputs": [],
   "source": [
    "cv = CountVectorizer()"
   ]
  },
  {
   "cell_type": "code",
   "execution_count": 22,
   "id": "555c00a1",
   "metadata": {
    "execution": {
     "iopub.execute_input": "2022-01-06T19:42:40.854328Z",
     "iopub.status.busy": "2022-01-06T19:42:40.853787Z",
     "iopub.status.idle": "2022-01-06T19:42:40.989791Z",
     "shell.execute_reply": "2022-01-06T19:42:40.989274Z",
     "shell.execute_reply.started": "2022-01-06T19:41:45.448210Z"
    },
    "papermill": {
     "duration": 0.175472,
     "end_time": "2022-01-06T19:42:40.989936",
     "exception": false,
     "start_time": "2022-01-06T19:42:40.814464",
     "status": "completed"
    },
    "tags": []
   },
   "outputs": [],
   "source": [
    "feature = cv.fit_transform(df.text_sent) #transform all text which we tokenize and stemed"
   ]
  },
  {
   "cell_type": "code",
   "execution_count": 23,
   "id": "52f4bf0a",
   "metadata": {
    "execution": {
     "iopub.execute_input": "2022-01-06T19:42:41.068005Z",
     "iopub.status.busy": "2022-01-06T19:42:41.067405Z",
     "iopub.status.idle": "2022-01-06T19:42:41.070949Z",
     "shell.execute_reply": "2022-01-06T19:42:41.071446Z",
     "shell.execute_reply.started": "2022-01-06T19:41:45.672747Z"
    },
    "papermill": {
     "duration": 0.045292,
     "end_time": "2022-01-06T19:42:41.071593",
     "exception": false,
     "start_time": "2022-01-06T19:42:41.026301",
     "status": "completed"
    },
    "tags": []
   },
   "outputs": [
    {
     "data": {
      "text/plain": [
       "array([[0, 0, 0, ..., 0, 0, 0],\n",
       "       [0, 0, 0, ..., 0, 0, 0],\n",
       "       [0, 0, 0, ..., 0, 0, 0],\n",
       "       [0, 0, 0, ..., 0, 0, 0],\n",
       "       [0, 0, 0, ..., 0, 0, 0]], dtype=int64)"
      ]
     },
     "execution_count": 23,
     "metadata": {},
     "output_type": "execute_result"
    }
   ],
   "source": [
    "feature[:5].toarray() # convert sparse matrix into array to print transformed features"
   ]
  },
  {
   "cell_type": "code",
   "execution_count": 24,
   "metadata": {},
   "outputs": [
    {
     "data": {
      "text/plain": [
       "['count_vectorizer.pkl']"
      ]
     },
     "execution_count": 24,
     "metadata": {},
     "output_type": "execute_result"
    }
   ],
   "source": [
    "joblib.dump(cv, 'count_vectorizer.pkl')"
   ]
  },
  {
   "cell_type": "code",
   "execution_count": 25,
   "id": "6cb94452",
   "metadata": {
    "execution": {
     "iopub.execute_input": "2022-01-06T19:42:41.147869Z",
     "iopub.status.busy": "2022-01-06T19:42:41.147264Z",
     "iopub.status.idle": "2022-01-06T19:42:41.150718Z",
     "shell.execute_reply": "2022-01-06T19:42:41.151170Z",
     "shell.execute_reply.started": "2022-01-06T19:41:45.681013Z"
    },
    "papermill": {
     "duration": 0.043489,
     "end_time": "2022-01-06T19:42:41.151343",
     "exception": false,
     "start_time": "2022-01-06T19:42:41.107854",
     "status": "completed"
    },
    "tags": []
   },
   "outputs": [],
   "source": [
    "from sklearn.model_selection import train_test_split"
   ]
  },
  {
   "cell_type": "code",
   "execution_count": 26,
   "id": "6e5d7687",
   "metadata": {
    "execution": {
     "iopub.execute_input": "2022-01-06T19:42:41.228908Z",
     "iopub.status.busy": "2022-01-06T19:42:41.228348Z",
     "iopub.status.idle": "2022-01-06T19:42:41.234229Z",
     "shell.execute_reply": "2022-01-06T19:42:41.234744Z",
     "shell.execute_reply.started": "2022-01-06T19:41:45.691334Z"
    },
    "papermill": {
     "duration": 0.047097,
     "end_time": "2022-01-06T19:42:41.234896",
     "exception": false,
     "start_time": "2022-01-06T19:42:41.187799",
     "status": "completed"
    },
    "tags": []
   },
   "outputs": [],
   "source": [
    "trainX, testX, trainY, testY = train_test_split(feature, df.status)"
   ]
  },
  {
   "cell_type": "markdown",
   "id": "7dd82384",
   "metadata": {
    "papermill": {
     "duration": 0.036178,
     "end_time": "2022-01-06T19:42:41.307333",
     "exception": false,
     "start_time": "2022-01-06T19:42:41.271155",
     "status": "completed"
    },
    "tags": []
   },
   "source": [
    "LogisticRegression"
   ]
  },
  {
   "cell_type": "markdown",
   "id": "4eeaa147",
   "metadata": {
    "papermill": {
     "duration": 0.035982,
     "end_time": "2022-01-06T19:42:41.379631",
     "exception": false,
     "start_time": "2022-01-06T19:42:41.343649",
     "status": "completed"
    },
    "tags": []
   },
   "source": [
    "Logistic Regression is a Machine Learning classification algorithm that is used to predict the probability of a categorical dependent variable. In logistic regression, the dependent variable is a binary variable that contains data coded as 1 (yes, success, etc.) or 0 (no, failure, etc.). In other words, the logistic regression model predicts P(Y=1) as a function of X."
   ]
  },
  {
   "cell_type": "code",
   "execution_count": 27,
   "id": "4149fb65",
   "metadata": {
    "execution": {
     "iopub.execute_input": "2022-01-06T19:42:41.455338Z",
     "iopub.status.busy": "2022-01-06T19:42:41.454785Z",
     "iopub.status.idle": "2022-01-06T19:42:41.458120Z",
     "shell.execute_reply": "2022-01-06T19:42:41.458645Z",
     "shell.execute_reply.started": "2022-01-06T19:41:45.705294Z"
    },
    "papermill": {
     "duration": 0.042896,
     "end_time": "2022-01-06T19:42:41.458819",
     "exception": false,
     "start_time": "2022-01-06T19:42:41.415923",
     "status": "completed"
    },
    "tags": []
   },
   "outputs": [],
   "source": [
    "from sklearn.linear_model import LogisticRegression"
   ]
  },
  {
   "cell_type": "code",
   "execution_count": 28,
   "id": "91b630d8",
   "metadata": {
    "execution": {
     "iopub.execute_input": "2022-01-06T19:42:41.533796Z",
     "iopub.status.busy": "2022-01-06T19:42:41.533242Z",
     "iopub.status.idle": "2022-01-06T19:42:41.952961Z",
     "shell.execute_reply": "2022-01-06T19:42:41.953768Z",
     "shell.execute_reply.started": "2022-01-06T19:41:45.713177Z"
    },
    "papermill": {
     "duration": 0.459265,
     "end_time": "2022-01-06T19:42:41.954048",
     "exception": false,
     "start_time": "2022-01-06T19:42:41.494783",
     "status": "completed"
    },
    "tags": []
   },
   "outputs": [
    {
     "data": {
      "text/plain": [
       "LogisticRegression()"
      ]
     },
     "execution_count": 28,
     "metadata": {},
     "output_type": "execute_result"
    }
   ],
   "source": [
    "lr = LogisticRegression()\n",
    "lr.fit(trainX,trainY)\n"
   ]
  },
  {
   "cell_type": "code",
   "execution_count": 29,
   "id": "81288c58",
   "metadata": {
    "execution": {
     "iopub.execute_input": "2022-01-06T19:42:42.093698Z",
     "iopub.status.busy": "2022-01-06T19:42:42.092802Z",
     "iopub.status.idle": "2022-01-06T19:42:42.096637Z",
     "shell.execute_reply": "2022-01-06T19:42:42.096126Z",
     "shell.execute_reply.started": "2022-01-06T19:41:46.194800Z"
    },
    "papermill": {
     "duration": 0.070122,
     "end_time": "2022-01-06T19:42:42.096784",
     "exception": false,
     "start_time": "2022-01-06T19:42:42.026662",
     "status": "completed"
    },
    "tags": []
   },
   "outputs": [
    {
     "data": {
      "text/plain": [
       "0.903778866340098"
      ]
     },
     "execution_count": 29,
     "metadata": {},
     "output_type": "execute_result"
    }
   ],
   "source": [
    "lr.score(testX,testY)"
   ]
  },
  {
   "cell_type": "markdown",
   "id": "74ccb440",
   "metadata": {
    "papermill": {
     "duration": 0.03663,
     "end_time": "2022-01-06T19:42:42.170365",
     "exception": false,
     "start_time": "2022-01-06T19:42:42.133735",
     "status": "completed"
    },
    "tags": []
   },
   "source": [
    "Logistic Regression provide 96% accuracy,Now we will store the score in the dictionary so that we can find which model performs the best."
   ]
  },
  {
   "cell_type": "code",
   "execution_count": 30,
   "id": "a88a359d",
   "metadata": {
    "execution": {
     "iopub.execute_input": "2022-01-06T19:42:42.247329Z",
     "iopub.status.busy": "2022-01-06T19:42:42.246788Z",
     "iopub.status.idle": "2022-01-06T19:42:42.255322Z",
     "shell.execute_reply": "2022-01-06T19:42:42.255761Z",
     "shell.execute_reply.started": "2022-01-06T19:41:46.228446Z"
    },
    "papermill": {
     "duration": 0.048621,
     "end_time": "2022-01-06T19:42:42.255927",
     "exception": false,
     "start_time": "2022-01-06T19:42:42.207306",
     "status": "completed"
    },
    "tags": []
   },
   "outputs": [],
   "source": [
    "Scores_ml = {}\n",
    "Scores_ml['Logistic Regression'] = np.round(lr.score(testX,testY),2)"
   ]
  },
  {
   "cell_type": "code",
   "execution_count": 31,
   "id": "4189641c",
   "metadata": {
    "execution": {
     "iopub.execute_input": "2022-01-06T19:42:42.333180Z",
     "iopub.status.busy": "2022-01-06T19:42:42.332327Z",
     "iopub.status.idle": "2022-01-06T19:42:42.674704Z",
     "shell.execute_reply": "2022-01-06T19:42:42.675130Z",
     "shell.execute_reply.started": "2022-01-06T19:41:46.253457Z"
    },
    "papermill": {
     "duration": 0.382367,
     "end_time": "2022-01-06T19:42:42.675315",
     "exception": false,
     "start_time": "2022-01-06T19:42:42.292948",
     "status": "completed"
    },
    "tags": []
   },
   "outputs": [
    {
     "name": "stdout",
     "output_type": "stream",
     "text": [
      "Training Accuracy : 0.9647690153989734\n",
      "Testing Accuracy : 0.903778866340098\n",
      "\n",
      "CLASSIFICATION REPORT\n",
      "\n",
      "              precision    recall  f1-score   support\n",
      "\n",
      "         Bad       0.91      0.91      0.91      1469\n",
      "        Good       0.90      0.90      0.90      1389\n",
      "\n",
      "    accuracy                           0.90      2858\n",
      "   macro avg       0.90      0.90      0.90      2858\n",
      "weighted avg       0.90      0.90      0.90      2858\n",
      "\n",
      "\n",
      "CONFUSION MATRIX\n"
     ]
    },
    {
     "data": {
      "text/plain": [
       "<AxesSubplot:>"
      ]
     },
     "execution_count": 31,
     "metadata": {},
     "output_type": "execute_result"
    },
    {
     "data": {
      "image/png": "[encoded data removed]",
      "text/plain": [
       "<Figure size 600x400 with 2 Axes>"
      ]
     },
     "metadata": {},
     "output_type": "display_data"
    }
   ],
   "source": [
    "# creating confusing matrix\n",
    "print('Training Accuracy :',lr.score(trainX,trainY))\n",
    "print('Testing Accuracy :',lr.score(testX,testY))\n",
    "con_mat = pd.DataFrame(confusion_matrix(lr.predict(testX), testY),\n",
    "            columns = ['Predicted:Bad', 'Predicted:Good'],\n",
    "            index = ['Actual:Bad', 'Actual:Good'])\n",
    "\n",
    "\n",
    "print('\\nCLASSIFICATION REPORT\\n')\n",
    "print(classification_report(lr.predict(testX), testY,\n",
    "                            target_names =['Bad','Good']))\n",
    "\n",
    "print('\\nCONFUSION MATRIX')\n",
    "plt.figure(figsize= (6,4))\n",
    "sns.heatmap(con_mat, annot = True,fmt='d',cmap=\"YlGnBu\")"
   ]
  },
  {
   "cell_type": "code",
   "execution_count": 32,
   "id": "113123ec",
   "metadata": {},
   "outputs": [],
   "source": [
    "from sklearn.model_selection import GridSearchCV\n",
    "\n",
    "param_grid = {\n",
    "    'C': [0.001, 0.01, 0.1, 1, 10, 100],\n",
    "    'penalty': ['l1', 'l2'],\n",
    "    'max_iter': [100, 200, 300, 400]\n",
    "}\n",
    "\n",
    "grid_search = GridSearchCV(estimator=lr, param_grid=param_grid, cv=5, scoring='accuracy')\n",
    "grid_search.fit(trainX, trainY)\n",
    "\n",
    "best_params = grid_search.best_params_\n",
    "best_lr_model = grid_search.best_estimator_\n",
    "test_accuracy = best_lr_model.score(testX, testY)\n",
    "print(\"Best Parameters:\", best_params)\n",
    "print(\"Test Accuracy with Hyperparameter Tuning:\", test_accuracy)"
   ]
  },
  {
   "cell_type": "markdown",
   "id": "3c80a5cd",
   "metadata": {
    "papermill": {
     "duration": 0.037807,
     "end_time": "2022-01-06T19:42:42.751300",
     "exception": false,
     "start_time": "2022-01-06T19:42:42.713493",
     "status": "completed"
    },
    "tags": []
   },
   "source": [
    "MultinomialNB\n"
   ]
  },
  {
   "cell_type": "markdown",
   "id": "da96af5e",
   "metadata": {
    "papermill": {
     "duration": 0.037954,
     "end_time": "2022-01-06T19:42:42.826984",
     "exception": false,
     "start_time": "2022-01-06T19:42:42.789030",
     "status": "completed"
    },
    "tags": []
   },
   "source": [
    "The multinomial Naive Bayes classifier is suitable for classification with discrete features (e.g., word counts for text classification). The multinomial distribution normally requires integer feature counts. However, in practice, fractional counts such as tf-idf may also work."
   ]
  },
  {
   "cell_type": "code",
   "execution_count": null,
   "id": "72cdb20d",
   "metadata": {
    "execution": {
     "iopub.execute_input": "2022-01-06T19:42:42.907886Z",
     "iopub.status.busy": "2022-01-06T19:42:42.907285Z",
     "iopub.status.idle": "2022-01-06T19:42:42.911132Z",
     "shell.execute_reply": "2022-01-06T19:42:42.911642Z",
     "shell.execute_reply.started": "2022-01-06T19:41:46.763779Z"
    },
    "papermill": {
     "duration": 0.046339,
     "end_time": "2022-01-06T19:42:42.911808",
     "exception": false,
     "start_time": "2022-01-06T19:42:42.865469",
     "status": "completed"
    },
    "tags": []
   },
   "outputs": [],
   "source": [
    "from sklearn.naive_bayes import MultinomialNB"
   ]
  },
  {
   "cell_type": "code",
   "execution_count": null,
   "id": "fdbcf593",
   "metadata": {
    "execution": {
     "iopub.execute_input": "2022-01-06T19:42:42.994177Z",
     "iopub.status.busy": "2022-01-06T19:42:42.993191Z",
     "iopub.status.idle": "2022-01-06T19:42:42.995339Z",
     "shell.execute_reply": "2022-01-06T19:42:42.995741Z",
     "shell.execute_reply.started": "2022-01-06T19:41:46.770051Z"
    },
    "papermill": {
     "duration": 0.046129,
     "end_time": "2022-01-06T19:42:42.995907",
     "exception": false,
     "start_time": "2022-01-06T19:42:42.949778",
     "status": "completed"
    },
    "tags": []
   },
   "outputs": [],
   "source": [
    "# create mnb object\n",
    "mnb = MultinomialNB()"
   ]
  },
  {
   "cell_type": "code",
   "execution_count": null,
   "id": "deaaec21",
   "metadata": {
    "execution": {
     "iopub.execute_input": "2022-01-06T19:42:43.101996Z",
     "iopub.status.busy": "2022-01-06T19:42:43.075276Z",
     "iopub.status.idle": "2022-01-06T19:42:43.107171Z",
     "shell.execute_reply": "2022-01-06T19:42:43.107605Z",
     "shell.execute_reply.started": "2022-01-06T19:41:46.781382Z"
    },
    "papermill": {
     "duration": 0.07347,
     "end_time": "2022-01-06T19:42:43.107777",
     "exception": false,
     "start_time": "2022-01-06T19:42:43.034307",
     "status": "completed"
    },
    "tags": []
   },
   "outputs": [
    {
     "data": {
      "text/plain": [
       "MultinomialNB()"
      ]
     },
     "execution_count": 35,
     "metadata": {},
     "output_type": "execute_result"
    }
   ],
   "source": [
    "mnb.fit(trainX,trainY)"
   ]
  },
  {
   "cell_type": "code",
   "execution_count": null,
   "id": "7ed73ce6",
   "metadata": {
    "execution": {
     "iopub.execute_input": "2022-01-06T19:42:43.187930Z",
     "iopub.status.busy": "2022-01-06T19:42:43.187049Z",
     "iopub.status.idle": "2022-01-06T19:42:43.198823Z",
     "shell.execute_reply": "2022-01-06T19:42:43.199234Z",
     "shell.execute_reply.started": "2022-01-06T19:41:46.844877Z"
    },
    "papermill": {
     "duration": 0.053036,
     "end_time": "2022-01-06T19:42:43.199401",
     "exception": false,
     "start_time": "2022-01-06T19:42:43.146365",
     "status": "completed"
    },
    "tags": []
   },
   "outputs": [
    {
     "data": {
      "text/plain": [
       "0.903778866340098"
      ]
     },
     "execution_count": 36,
     "metadata": {},
     "output_type": "execute_result"
    }
   ],
   "source": [
    "mnb.score(testX,testY)"
   ]
  },
  {
   "cell_type": "markdown",
   "id": "4f34f38d",
   "metadata": {
    "papermill": {
     "duration": 0.037983,
     "end_time": "2022-01-06T19:42:43.275907",
     "exception": false,
     "start_time": "2022-01-06T19:42:43.237924",
     "status": "completed"
    },
    "tags": []
   },
   "source": [
    "MultinomialNBMultinomialNB provide 95% accuracy,so we can store the score in the dictionary"
   ]
  },
  {
   "cell_type": "code",
   "execution_count": null,
   "id": "0bcffa2b",
   "metadata": {
    "execution": {
     "iopub.execute_input": "2022-01-06T19:42:43.356033Z",
     "iopub.status.busy": "2022-01-06T19:42:43.355131Z",
     "iopub.status.idle": "2022-01-06T19:42:43.364620Z",
     "shell.execute_reply": "2022-01-06T19:42:43.365044Z",
     "shell.execute_reply.started": "2022-01-06T19:41:46.865801Z"
    },
    "papermill": {
     "duration": 0.05094,
     "end_time": "2022-01-06T19:42:43.365221",
     "exception": false,
     "start_time": "2022-01-06T19:42:43.314281",
     "status": "completed"
    },
    "tags": []
   },
   "outputs": [],
   "source": [
    "Scores_ml['MultinomialNB'] = np.round(mnb.score(testX,testY),2)"
   ]
  },
  {
   "cell_type": "code",
   "execution_count": null,
   "id": "6ea1548b",
   "metadata": {
    "execution": {
     "iopub.execute_input": "2022-01-06T19:42:43.448448Z",
     "iopub.status.busy": "2022-01-06T19:42:43.447862Z",
     "iopub.status.idle": "2022-01-06T19:42:43.795436Z",
     "shell.execute_reply": "2022-01-06T19:42:43.794952Z",
     "shell.execute_reply.started": "2022-01-06T19:41:46.883008Z"
    },
    "papermill": {
     "duration": 0.39205,
     "end_time": "2022-01-06T19:42:43.795570",
     "exception": false,
     "start_time": "2022-01-06T19:42:43.403520",
     "status": "completed"
    },
    "tags": []
   },
   "outputs": [
    {
     "name": "stdout",
     "output_type": "stream",
     "text": [
      "Training Accuracy : 0.9648856742883808\n",
      "Testing Accuracy : 0.903778866340098\n",
      "\n",
      "CLASSIFICATION REPORT\n",
      "\n"
     ]
    },
    {
     "name": "stdout",
     "output_type": "stream",
     "text": [
      "              precision    recall  f1-score   support\n",
      "\n",
      "         Bad       0.95      0.87      0.91      1551\n",
      "        Good       0.86      0.95      0.90      1307\n",
      "\n",
      "    accuracy                           0.90      2858\n",
      "   macro avg       0.90      0.91      0.90      2858\n",
      "weighted avg       0.91      0.90      0.90      2858\n",
      "\n",
      "\n",
      "CONFUSION MATRIX\n"
     ]
    },
    {
     "data": {
      "text/plain": [
       "<AxesSubplot:>"
      ]
     },
     "execution_count": 38,
     "metadata": {},
     "output_type": "execute_result"
    },
    {
     "data": {
      "image/png": "[encoded data removed]",
      "text/plain": [
       "<Figure size 600x400 with 2 Axes>"
      ]
     },
     "metadata": {},
     "output_type": "display_data"
    }
   ],
   "source": [
    "print('Training Accuracy :',mnb.score(trainX,trainY))\n",
    "print('Testing Accuracy :',mnb.score(testX,testY))\n",
    "con_mat = pd.DataFrame(confusion_matrix(mnb.predict(testX), testY),\n",
    "            columns = ['Predicted:Bad', 'Predicted:Good'],\n",
    "            index = ['Actual:Bad', 'Actual:Good'])\n",
    "\n",
    "\n",
    "print('\\nCLASSIFICATION REPORT\\n')\n",
    "print(classification_report(mnb.predict(testX), testY,\n",
    "                            target_names =['Bad','Good']))\n",
    "\n",
    "print('\\nCONFUSION MATRIX')\n",
    "plt.figure(figsize= (6,4))\n",
    "sns.heatmap(con_mat, annot = True,fmt='d',cmap=\"YlGnBu\")"
   ]
  },
  {
   "cell_type": "markdown",
   "id": "8e208eb8",
   "metadata": {
    "papermill": {
     "duration": 0.040294,
     "end_time": "2022-01-06T19:42:43.877349",
     "exception": false,
     "start_time": "2022-01-06T19:42:43.837055",
     "status": "completed"
    },
    "tags": []
   },
   "source": [
    "Lets compare the two models and find out which one is best."
   ]
  },
  {
   "cell_type": "code",
   "execution_count": null,
   "id": "aa9cf4d5",
   "metadata": {
    "execution": {
     "iopub.execute_input": "2022-01-06T19:42:43.961006Z",
     "iopub.status.busy": "2022-01-06T19:42:43.960403Z",
     "iopub.status.idle": "2022-01-06T19:42:44.135215Z",
     "shell.execute_reply": "2022-01-06T19:42:44.135741Z",
     "shell.execute_reply.started": "2022-01-06T19:41:47.348411Z"
    },
    "papermill": {
     "duration": 0.218534,
     "end_time": "2022-01-06T19:42:44.135911",
     "exception": false,
     "start_time": "2022-01-06T19:42:43.917377",
     "status": "completed"
    },
    "tags": []
   },
   "outputs": [
    {
     "data": {
      "text/plain": [
       "(array([0, 1]),\n",
       " [Text(0, 0, 'Logistic Regression'), Text(1, 0, 'MultinomialNB')])"
      ]
     },
     "execution_count": 39,
     "metadata": {},
     "output_type": "execute_result"
    },
    {
     "data": {
      "image/png": "[encoded data removed]",
      "text/plain": [
       "<Figure size 640x480 with 1 Axes>"
      ]
     },
     "metadata": {},
     "output_type": "display_data"
    }
   ],
   "source": [
    "acc = pd.DataFrame.from_dict(Scores_ml, orient='index', columns=['Accuracy'])\n",
    "\n",
    "# Reset the index to make 'index' a regular column\n",
    "acc = acc.reset_index()\n",
    "\n",
    "# Plot the barplot\n",
    "sns.barplot(x='index', y='Accuracy', data=acc)\n",
    "\n",
    "# Optionally, rotate the x-axis labels for better visibility\n",
    "plt.xticks(rotation=45)"
   ]
  },
  {
   "cell_type": "markdown",
   "id": "4099c63f",
   "metadata": {
    "papermill": {
     "duration": 0.040334,
     "end_time": "2022-01-06T19:42:44.216996",
     "exception": false,
     "start_time": "2022-01-06T19:42:44.176662",
     "status": "completed"
    },
    "tags": []
   },
   "source": [
    "SVM"
   ]
  },
  {
   "cell_type": "code",
   "execution_count": null,
   "id": "abb7896b",
   "metadata": {
    "execution": {
     "iopub.execute_input": "2022-01-06T19:42:44.301220Z",
     "iopub.status.busy": "2022-01-06T19:42:44.300627Z",
     "iopub.status.idle": "2022-01-06T19:42:44.303586Z",
     "shell.execute_reply": "2022-01-06T19:42:44.304118Z",
     "shell.execute_reply.started": "2022-01-06T19:41:47.549283Z"
    },
    "papermill": {
     "duration": 0.04674,
     "end_time": "2022-01-06T19:42:44.304269",
     "exception": false,
     "start_time": "2022-01-06T19:42:44.257529",
     "status": "completed"
    },
    "tags": []
   },
   "outputs": [],
   "source": [
    "from sklearn.metrics import accuracy_score,confusion_matrix,classification_report"
   ]
  },
  {
   "cell_type": "code",
   "execution_count": null,
   "id": "fca96794",
   "metadata": {
    "execution": {
     "iopub.execute_input": "2022-01-06T19:42:44.388753Z",
     "iopub.status.busy": "2022-01-06T19:42:44.388184Z",
     "iopub.status.idle": "2022-01-06T19:42:49.744101Z",
     "shell.execute_reply": "2022-01-06T19:42:49.744571Z",
     "shell.execute_reply.started": "2022-01-06T19:41:47.555510Z"
    },
    "papermill": {
     "duration": 5.399799,
     "end_time": "2022-01-06T19:42:49.744784",
     "exception": false,
     "start_time": "2022-01-06T19:42:44.344985",
     "status": "completed"
    },
    "tags": []
   },
   "outputs": [
    {
     "data": {
      "text/plain": [
       "0.834849545136459"
      ]
     },
     "execution_count": 41,
     "metadata": {},
     "output_type": "execute_result"
    }
   ],
   "source": [
    "from sklearn.svm import SVC\n",
    "svm_clf =SVC(C=100, gamma=0.0001, kernel='rbf')\n",
    "svm_clf.fit(trainX,trainY)\n",
    "pred=svm_clf.predict(testX)\n",
    "accuracy_score(pred,testY)"
   ]
  },
  {
   "cell_type": "code",
   "execution_count": null,
   "id": "8bf95579",
   "metadata": {
    "execution": {
     "iopub.execute_input": "2022-01-06T19:42:49.831230Z",
     "iopub.status.busy": "2022-01-06T19:42:49.830297Z",
     "iopub.status.idle": "2022-01-06T19:42:56.418384Z",
     "shell.execute_reply": "2022-01-06T19:42:56.418819Z",
     "shell.execute_reply.started": "2022-01-06T19:41:52.888483Z"
    },
    "papermill": {
     "duration": 6.6331,
     "end_time": "2022-01-06T19:42:56.418998",
     "exception": false,
     "start_time": "2022-01-06T19:42:49.785898",
     "status": "completed"
    },
    "tags": []
   },
   "outputs": [
    {
     "name": "stdout",
     "output_type": "stream",
     "text": [
      "Training Accuracy : 0.8499766682221185\n",
      "Testing Accuracy : 0.834849545136459\n",
      "\n",
      "CLASSIFICATION REPORT\n",
      "\n",
      "              precision    recall  f1-score   support\n",
      "\n",
      "         Bad       0.79      0.87      0.83      1292\n",
      "        Good       0.88      0.81      0.84      1566\n",
      "\n",
      "    accuracy                           0.83      2858\n",
      "   macro avg       0.83      0.84      0.83      2858\n",
      "weighted avg       0.84      0.83      0.84      2858\n",
      "\n",
      "\n",
      "CONFUSION MATRIX\n"
     ]
    },
    {
     "data": {
      "text/plain": [
       "<AxesSubplot:>"
      ]
     },
     "execution_count": 42,
     "metadata": {},
     "output_type": "execute_result"
    },
    {
     "data": {
      "image/png": "[encoded data removed]",
      "text/plain": [
       "<Figure size 600x400 with 2 Axes>"
      ]
     },
     "metadata": {},
     "output_type": "display_data"
    }
   ],
   "source": [
    "print('Training Accuracy :',svm_clf.score(trainX,trainY))\n",
    "print('Testing Accuracy :',svm_clf.score(testX,testY))\n",
    "con_mat = pd.DataFrame(confusion_matrix(svm_clf.predict(testX), testY),\n",
    "            columns = ['Predicted:Bad', 'Predicted:Good'],\n",
    "            index = ['Actual:Bad', 'Actual:Good'])\n",
    "\n",
    "\n",
    "print('\\nCLASSIFICATION REPORT\\n')\n",
    "print(classification_report(svm_clf.predict(testX), testY,\n",
    "                            target_names =['Bad','Good']))\n",
    "\n",
    "print('\\nCONFUSION MATRIX')\n",
    "plt.figure(figsize= (6,4))\n",
    "sns.heatmap(con_mat, annot = True,fmt='d',cmap=\"YlGnBu\")"
   ]
  },
  {
   "cell_type": "markdown",
   "id": "4525cdae",
   "metadata": {
    "papermill": {
     "duration": 0.043118,
     "end_time": "2022-01-06T19:42:56.506030",
     "exception": false,
     "start_time": "2022-01-06T19:42:56.462912",
     "status": "completed"
    },
    "tags": []
   },
   "source": [
    "Random Forest\n"
   ]
  },
  {
   "cell_type": "code",
   "execution_count": null,
   "id": "8f49f17b",
   "metadata": {
    "execution": {
     "iopub.execute_input": "2022-01-06T19:42:56.595582Z",
     "iopub.status.busy": "2022-01-06T19:42:56.594994Z",
     "iopub.status.idle": "2022-01-06T19:42:57.660218Z",
     "shell.execute_reply": "2022-01-06T19:42:57.659770Z",
     "shell.execute_reply.started": "2022-01-06T19:41:59.655876Z"
    },
    "papermill": {
     "duration": 1.111157,
     "end_time": "2022-01-06T19:42:57.660365",
     "exception": false,
     "start_time": "2022-01-06T19:42:56.549208",
     "status": "completed"
    },
    "tags": []
   },
   "outputs": [
    {
     "data": {
      "text/plain": [
       "0.8219034289713086"
      ]
     },
     "execution_count": 43,
     "metadata": {},
     "output_type": "execute_result"
    }
   ],
   "source": [
    "from sklearn.ensemble import RandomForestClassifier\n",
    "forest_clf = RandomForestClassifier(max_depth=10, random_state=0)\n",
    "forest_clf.fit(trainX,trainY)\n",
    "ran_pred=forest_clf.predict(testX)\n",
    "accuracy_score(ran_pred,testY)"
   ]
  },
  {
   "cell_type": "code",
   "execution_count": null,
   "id": "b043196c",
   "metadata": {
    "execution": {
     "iopub.execute_input": "2022-01-06T19:42:57.749500Z",
     "iopub.status.busy": "2022-01-06T19:42:57.748950Z",
     "iopub.status.idle": "2022-01-06T19:42:58.299551Z",
     "shell.execute_reply": "2022-01-06T19:42:58.299004Z",
     "shell.execute_reply.started": "2022-01-06T19:42:00.669678Z"
    },
    "papermill": {
     "duration": 0.595953,
     "end_time": "2022-01-06T19:42:58.299698",
     "exception": false,
     "start_time": "2022-01-06T19:42:57.703745",
     "status": "completed"
    },
    "tags": []
   },
   "outputs": [
    {
     "name": "stdout",
     "output_type": "stream",
     "text": [
      "Training Accuracy : 0.8181287914139057\n",
      "Testing Accuracy : 0.8219034289713086\n",
      "\n",
      "CLASSIFICATION REPORT\n",
      "\n",
      "              precision    recall  f1-score   support\n",
      "\n",
      "         Bad       0.97      0.75      0.84      1845\n",
      "        Good       0.67      0.96      0.79      1013\n",
      "\n",
      "    accuracy                           0.82      2858\n",
      "   macro avg       0.82      0.85      0.82      2858\n",
      "weighted avg       0.87      0.82      0.83      2858\n",
      "\n",
      "\n",
      "CONFUSION MATRIX\n"
     ]
    },
    {
     "data": {
      "text/plain": [
       "<AxesSubplot:>"
      ]
     },
     "execution_count": 44,
     "metadata": {},
     "output_type": "execute_result"
    },
    {
     "data": {
      "image/png": "[encoded data removed]",
      "text/plain": [
       "<Figure size 600x400 with 2 Axes>"
      ]
     },
     "metadata": {},
     "output_type": "display_data"
    }
   ],
   "source": [
    "print('Training Accuracy :',forest_clf.score(trainX,trainY))\n",
    "print('Testing Accuracy :',forest_clf.score(testX,testY))\n",
    "con_mat = pd.DataFrame(confusion_matrix(forest_clf.predict(testX), testY),\n",
    "            columns = ['Predicted:Bad', 'Predicted:Good'],\n",
    "            index = ['Actual:Bad', 'Actual:Good'])\n",
    "\n",
    "\n",
    "print('\\nCLASSIFICATION REPORT\\n')\n",
    "print(classification_report(forest_clf.predict(testX), testY,\n",
    "                            target_names =['Bad','Good']))\n",
    "\n",
    "print('\\nCONFUSION MATRIX')\n",
    "plt.figure(figsize= (6,4))\n",
    "sns.heatmap(con_mat, annot = True,fmt='d',cmap=\"YlGnBu\")"
   ]
  },
  {
   "cell_type": "markdown",
   "id": "358ba1b6",
   "metadata": {
    "papermill": {
     "duration": 0.046884,
     "end_time": "2022-01-06T19:42:58.391465",
     "exception": false,
     "start_time": "2022-01-06T19:42:58.344581",
     "status": "completed"
    },
    "tags": []
   },
   "source": [
    "DecisionThree"
   ]
  },
  {
   "cell_type": "code",
   "execution_count": null,
   "id": "57f45879",
   "metadata": {
    "execution": {
     "iopub.execute_input": "2022-01-06T19:42:58.486909Z",
     "iopub.status.busy": "2022-01-06T19:42:58.486281Z",
     "iopub.status.idle": "2022-01-06T19:42:59.308550Z",
     "shell.execute_reply": "2022-01-06T19:42:59.308093Z",
     "shell.execute_reply.started": "2022-01-06T19:42:01.334119Z"
    },
    "papermill": {
     "duration": 0.872065,
     "end_time": "2022-01-06T19:42:59.308704",
     "exception": false,
     "start_time": "2022-01-06T19:42:58.436639",
     "status": "completed"
    },
    "tags": []
   },
   "outputs": [
    {
     "data": {
      "text/plain": [
       "0.8488453463960812"
      ]
     },
     "execution_count": 45,
     "metadata": {},
     "output_type": "execute_result"
    }
   ],
   "source": [
    "from sklearn.tree import DecisionTreeClassifier\n",
    "dtree=DecisionTreeClassifier()\n",
    "dtree.fit(trainX,trainY)\n",
    "dtree_predict=dtree.predict(testX)\n",
    "accuracy_score(dtree_predict,testY)"
   ]
  },
  {
   "cell_type": "code",
   "execution_count": null,
   "id": "5ddee827",
   "metadata": {
    "execution": {
     "iopub.execute_input": "2022-01-06T19:42:59.406812Z",
     "iopub.status.busy": "2022-01-06T19:42:59.406166Z",
     "iopub.status.idle": "2022-01-06T19:42:59.795894Z",
     "shell.execute_reply": "2022-01-06T19:42:59.796785Z",
     "shell.execute_reply.started": "2022-01-06T19:42:02.057111Z"
    },
    "papermill": {
     "duration": 0.44206,
     "end_time": "2022-01-06T19:42:59.797021",
     "exception": false,
     "start_time": "2022-01-06T19:42:59.354961",
     "status": "completed"
    },
    "tags": []
   },
   "outputs": [
    {
     "name": "stdout",
     "output_type": "stream",
     "text": [
      "Training Accuracy : 1.0\n",
      "Testing Accuracy : 0.8488453463960812\n",
      "\n",
      "CLASSIFICATION REPORT\n",
      "\n",
      "              precision    recall  f1-score   support\n",
      "\n",
      "         Bad       0.78      0.90      0.84      1238\n",
      "        Good       0.91      0.81      0.86      1620\n",
      "\n",
      "    accuracy                           0.85      2858\n",
      "   macro avg       0.85      0.85      0.85      2858\n",
      "weighted avg       0.86      0.85      0.85      2858\n",
      "\n",
      "\n",
      "CONFUSION MATRIX\n"
     ]
    },
    {
     "data": {
      "text/plain": [
       "<AxesSubplot:>"
      ]
     },
     "execution_count": 46,
     "metadata": {},
     "output_type": "execute_result"
    },
    {
     "data": {
      "image/png": "[encoded data removed]",
      "text/plain": [
       "<Figure size 800x600 with 2 Axes>"
      ]
     },
     "metadata": {},
     "output_type": "display_data"
    }
   ],
   "source": [
    "print('Training Accuracy :',dtree.score(trainX,trainY))\n",
    "print('Testing Accuracy :',dtree.score(testX,testY))\n",
    "con_mat = pd.DataFrame(confusion_matrix(dtree.predict(testX), testY),\n",
    "            columns = ['Predicted:Bad', 'Predicted:Good'],\n",
    "            index = ['Actual:Bad', 'Actual:Good'])\n",
    "\n",
    "\n",
    "print('\\nCLASSIFICATION REPORT\\n')\n",
    "print(classification_report(dtree.predict(testX), testY,\n",
    "                            target_names =['Bad','Good']))\n",
    "\n",
    "print('\\nCONFUSION MATRIX')\n",
    "plt.figure(figsize= (8,6))\n",
    "sns.heatmap(con_mat, annot = True,fmt='d',cmap=\"YlGnBu\")"
   ]
  },
  {
   "cell_type": "markdown",
   "metadata": {},
   "source": [
    "## Export the Model"
   ]
  },
  {
   "cell_type": "code",
   "execution_count": null,
   "id": "35273784",
   "metadata": {},
   "outputs": [
    {
     "data": {
      "text/plain": [
       "['logistic_regression_model.pkl']"
      ]
     },
     "execution_count": 47,
     "metadata": {},
     "output_type": "execute_result"
    }
   ],
   "source": [
    "import joblib\n",
    "joblib.dump(lr, 'logistic_regression_model.pkl')"
   ]
  },
  {
   "cell_type": "code",
   "execution_count": null,
   "id": "83489a14",
   "metadata": {},
   "outputs": [],
   "source": [
    "# Load the trained model\n",
    "lr_model = joblib.load('logistic_regression_model.pkl')\n",
    "\n",
    "# Function to preprocess the input URL\n",
    "def preprocess_url(url):\n",
    "    tokenizer = RegexpTokenizer(r'[A-Za-z]+')\n",
    "    words_tokenized = tokenizer.tokenize(url)\n",
    "\n",
    "    stemmer = SnowballStemmer(\"english\")\n",
    "    words_stemmed = [stemmer.stem(word) for word in words_tokenized]\n",
    "\n",
    "    return ' '.join(words_stemmed)\n",
    "\n",
    "# Function to make predictions\n",
    "def predict_url_status(url):\n",
    "    preprocessed_url = preprocess_url(url)\n",
    "    feature = cv.transform([preprocessed_url])\n",
    "    prediction = lr_model.predict(feature)[0]\n",
    "\n",
    "    return prediction"
   ]
  },
  {
   "cell_type": "code",
   "execution_count": null,
   "id": "05a23b4d",
   "metadata": {},
   "outputs": [
    {
     "name": "stdout",
     "output_type": "stream",
     "text": [
      "The URL 'http://batvrms.net/deliver/D2017HL/u.php' is predicted to be a phishing site.\n"
     ]
    }
   ],
   "source": [
    "url_to_predict = \"http://batvrms.net/deliver/D2017HL/u.php\"\n",
    "prediction_result = predict_url_status(url_to_predict)\n",
    "\n",
    "if prediction_result == 'phishing':\n",
    "    print(f\"The URL '{url_to_predict}' is predicted to be a phishing site.\")\n",
    "else:\n",
    "    print(f\"The URL '{url_to_predict}' is predicted to be a legitimate site.\")"
   ]
  }
 ],
 "metadata": {
  "kernelspec": {
   "display_name": "Python 3",
   "language": "python",
   "name": "python3"
  },
  "language_info": {
   "codemirror_mode": {
    "name": "ipython",
    "version": 3
   },
   "file_extension": ".py",
   "mimetype": "text/x-python",
   "name": "python",
   "nbconvert_exporter": "python",
   "pygments_lexer": "ipython3",
   "version": "3.7.4"
  },
  "papermill": {
   "default_parameters": {},
   "duration": 33.512683,
   "end_time": "2022-01-06T19:43:00.879729",
   "environment_variables": {},
   "exception": null,
   "input_path": "__notebook__.ipynb",
   "output_path": "__notebook__.ipynb",
   "parameters": {},
   "start_time": "2022-01-06T19:42:27.367046",
   "version": "2.3.3"
  }
 },
 "nbformat": 4,
 "nbformat_minor": 5
}
